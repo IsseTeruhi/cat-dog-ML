{
  "nbformat": 4,
  "nbformat_minor": 0,
  "metadata": {
    "colab": {
      "name": "犬と猫の機械的認識の勉強",
      "provenance": [],
      "collapsed_sections": [],
      "mount_file_id": "1_rs9pPqq9aOzIb59nDy3B8C6juYht1nx",
      "authorship_tag": "ABX9TyOJlh2kxPmcMCnCSoubqunA",
      "include_colab_link": true
    },
    "kernelspec": {
      "name": "python3",
      "display_name": "Python 3"
    },
    "language_info": {
      "name": "python"
    },
    "accelerator": "GPU"
  },
  "cells": [
    {
      "cell_type": "markdown",
      "metadata": {
        "id": "view-in-github",
        "colab_type": "text"
      },
      "source": [
        "<a href=\"https://colab.research.google.com/github/IsseTeruhi/cat-dog-ML/blob/main/cat-dog-ML.ipynb\" target=\"_parent\"><img src=\"https://colab.research.google.com/assets/colab-badge.svg\" alt=\"Open In Colab\"/></a>"
      ]
    },
    {
      "cell_type": "code",
      "metadata": {
        "id": "G-BB6Jwtc2g7",
        "outputId": "a8431172-c69b-4235-fffb-c7a5883a548b",
        "colab": {
          "resources": {
            "http://localhost:8080/nbextensions/google.colab/files.js": {
              "data": "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",
              "ok": true,
              "headers": [
                [
                  "content-type",
                  "application/javascript"
                ]
              ],
              "status": 200,
              "status_text": ""
            }
          },
          "base_uri": "https://localhost:8080/",
          "height": 1000
        }
      },
      "source": [
        "!pip install icrawler\n",
        "\n",
        "from google.colab import files\n",
        "uploaded = files.upload()#代わりにファイルをインポート\n",
        "\n",
        "# from icrawler.builtin import GoogleImageCrawler\n",
        "# 猫の画像を100枚取得\n",
        "# crawler = GoogleImageCrawler(storage={\"root_dir\": \"cats\"})\n",
        "# crawler.crawl(keyword=\"猫\", max_num=100)\n",
        "from icrawler.builtin import BingImageCrawler\n",
        "\n",
        "# 猫の画像を100枚取得\n",
        "crawler = BingImageCrawler(storage={\"root_dir\": \"cat\"})\n",
        "crawler.crawl(keyword=\"猫\", max_num=200)\n",
        "# 犬の画像を100枚取得\n",
        "# crawler = GoogleImageCrawler(storage={\"root_dir\": \"dogs\"})\n",
        "# crawler.crawl(keyword=\"犬\", max_num=100)\n",
        "from icrawler.builtin import BingImageCrawler\n",
        "\n",
        "# 猫の画像を100枚取得\n",
        "crawler = BingImageCrawler(storage={\"root_dir\": \"dog\"})\n",
        "crawler.crawl(keyword=\"犬\", max_num=200)\n",
        "# 猫の画像を表示\n",
        "from IPython.display import Image,display_jpeg\n",
        "display_jpeg(Image(\"./cat/000001.jpg\"))\n",
        "from PIL import Image\n",
        "import os, glob\n",
        "import numpy as np\n",
        "from PIL import ImageFile\n",
        "# IOError: image file is truncated (0 bytes not processed)回避のため\n",
        "ImageFile.LOAD_TRUNCATED_IMAGES = True\n",
        "\n",
        "classes = [\"dog\", \"cat\"]\n",
        "num_classes = len(classes)\n",
        "image_size = 64\n",
        "num_testdata = 25 \n",
        "\n",
        "X_train = []\n",
        "X_test  = []\n",
        "y_train = []\n",
        "y_test  = []\n",
        "\n",
        "for index, classlabel in enumerate(classes):\n",
        "    photos_dir = \"./\" + classlabel\n",
        "    files = glob.glob(photos_dir + \"/*.jpg\")\n",
        "    for i, file in enumerate(files):\n",
        "        image = Image.open(file)\n",
        "        image = image.convert(\"RGB\")\n",
        "        image = image.resize((image_size, image_size))\n",
        "        data = np.asarray(image)\n",
        "        if i < num_testdata:\n",
        "            X_test.append(data)\n",
        "            y_test.append(index)\n",
        "        else:\n",
        "\n",
        "            # angleに代入される値\n",
        "            # -20\n",
        "            # -15\n",
        "            # -10\n",
        "            #  -5\n",
        "            # 0\n",
        "            # 5\n",
        "            # 10\n",
        "            # 15\n",
        "            # 画像を5度ずつ回転\n",
        "            for angle in range(-20, 20, 5):\n",
        "\n",
        "                img_r = image.rotate(angle)\n",
        "                data = np.asarray(img_r)\n",
        "                X_train.append(data)\n",
        "                y_train.append(index)\n",
        "                # FLIP_LEFT_RIGHT　は 左右反転\n",
        "                img_trains = img_r.transpose(Image.FLIP_LEFT_RIGHT)\n",
        "                data = np.asarray(img_trains)\n",
        "                X_train.append(data)\n",
        "                y_train.append(index)\n",
        "\n",
        "X_train = np.array(X_train)\n",
        "X_test  = np.array(X_test)\n",
        "y_train = np.array(y_train)\n",
        "y_test  = np.array(y_test)\n",
        "\n",
        "xy = (X_train, X_test, y_train, y_test)\n",
        "np.save(\"./dog_cat.npy\", xy)\n",
        "from keras.models import Sequential\n",
        "from keras.layers import Conv2D, MaxPooling2D\n",
        "from keras.layers import Activation, Dropout, Flatten, Dense\n",
        "from keras.optimizers import RMSprop\n",
        "from keras.utils import np_utils\n",
        "import keras\n",
        "import numpy as np\n",
        "\n",
        "classes = [\"dog\", \"cat\"]\n",
        "num_classes = len(classes)\n",
        "image_size = 64\n",
        "\n",
        "\"\"\"\n",
        "データを読み込む関数\n",
        "\"\"\"\n",
        "def load_data():\n",
        "    X_train, X_test, y_train, y_test = np.load(\"./dog_cat.npy\", allow_pickle=True)\n",
        "    # 入力データの各画素値を0-1の範囲で正規化(学習コストを下げるため)\n",
        "    X_train = X_train.astype(\"float\") / 255\n",
        "    X_test  = X_test.astype(\"float\") / 255\n",
        "    # to_categorical()にてラベルをone hot vector化\n",
        "    y_train = np_utils.to_categorical(y_train, num_classes)\n",
        "    y_test  = np_utils.to_categorical(y_test, num_classes)\n",
        "\n",
        "    return X_train, y_train, X_test, y_test\n",
        "\n",
        "\"\"\"\n",
        "モデルを学習する関数\n",
        "\"\"\"\n",
        "def train(X, y, X_test, y_test):\n",
        "    model = Sequential()\n",
        "\n",
        "    # Xは(1200, 64, 64, 3)\n",
        "    # X.shape[1:]とすることで、(64, 64, 3)となり、入力にすることが可能です。\n",
        "    model.add(Conv2D(32,(3,3), padding='same',input_shape=X.shape[1:]))\n",
        "    model.add(Activation('relu'))\n",
        "    model.add(Conv2D(32,(3,3)))\n",
        "    model.add(Activation('relu'))\n",
        "    model.add(MaxPooling2D(pool_size=(2,2)))\n",
        "    model.add(Dropout(0.1))\n",
        "\n",
        "    model.add(Conv2D(64,(3,3), padding='same'))\n",
        "    model.add(Activation('relu'))\n",
        "    model.add(Conv2D(64,(3,3)))\n",
        "    model.add(Activation('relu'))\n",
        "    model.add(MaxPooling2D(pool_size=(2,2)))\n",
        "    model.add(Dropout(0.25))\n",
        "\n",
        "    model.add(Flatten())\n",
        "    model.add(Dense(512))\n",
        "    model.add(Activation('relu'))\n",
        "    model.add(Dropout(0.45))\n",
        "    model.add(Dense(2))\n",
        "    model.add(Activation('softmax'))\n",
        "\n",
        "    # https://keras.io/ja/optimizers/\n",
        "    # 今回は、最適化アルゴリズムにRMSpropを利用\n",
        "    opt = RMSprop(lr=0.00005, decay=1e-6)\n",
        "    # https://keras.io/ja/models/sequential/\n",
        "    model.compile(loss='categorical_crossentropy',optimizer=opt,metrics=['accuracy'])\n",
        "    model.fit(X, y, batch_size=28, epochs=200)\n",
        "    # HDF5ファイルにKerasのモデルを保存\n",
        "    model.save('./cnn.h5')\n",
        "\n",
        "    return model\n",
        "\n",
        "\"\"\"\n",
        "メイン関数\n",
        "データの読み込みとモデルの学習を行います。\n",
        "\"\"\"\n",
        "def main():\n",
        "    # データの読み込み\n",
        "    X_train, y_train, X_test, y_test = load_data()\n",
        "\n",
        "    # モデルの学習\n",
        "    model = train(X_train, y_train, X_test, y_test)\n",
        "\n",
        "main()\n",
        "import keras\n",
        "import sys, os\n",
        "import numpy as np\n",
        "from keras.models import load_model\n",
        "\n",
        "imsize = (64, 64)\n",
        "\n",
        "\"\"\"\n",
        "dog1.jpgというファイル名の画像をGoogle Colab上にアップロードする方法は2通りあります。\n",
        "1つが、下記のコードを実行し画像をアップロードする方法\n",
        "from google.colab import files\n",
        "uploaded = files.upload()\n",
        "2つが、Colab左メニューの>アイコンを押して、目次、コード スニペット、ファイル\n",
        "の3つ表示されるますが、右のファイルタブから画像をアップロードする方法です。\n",
        "このファイルタブをクリックするとアップロードと更新の2つがありますが、\n",
        "アップロードを押すと画像をアップロードすることが可能です。\n",
        "\"\"\"\n",
        "\n",
        "testpic     = \"./Testdate.JPG\"\n",
        "keras_param = \"./cnn.h5\"\n",
        "\n",
        "def load_image(path):\n",
        "    img = Image.open(path)\n",
        "    img = img.convert('RGB')\n",
        "    # 学習時に、(64, 64, 3)で学習したので、画像の縦・横は今回 変数imsizeの(64, 64)にリサイズします。\n",
        "    img = img.resize(imsize)\n",
        "    # 画像データをnumpy配列の形式に変更\n",
        "    img = np.asarray(img)\n",
        "    img = img / 255.0\n",
        "    return img\n",
        "\n",
        "model = load_model(keras_param)\n",
        "img = load_image(testpic)\n",
        "prd = model.predict(np.array([img]))\n",
        "print(prd) # 精度の表示\n",
        "prelabel = np.argmax(prd, axis=1)\n",
        "if prelabel == 0:\n",
        "    print(\">>> 犬\")\n",
        "elif prelabel == 1:\n",
        "    print(\">>> 猫\")"
      ],
      "execution_count": null,
      "outputs": [
        {
          "metadata": {
            "tags": null
          },
          "name": "stdout",
          "output_type": "stream",
          "text": [
            "Requirement already satisfied: icrawler in /usr/local/lib/python3.7/dist-packages (0.6.6)\n",
            "Requirement already satisfied: beautifulsoup4>=4.4.1 in /usr/local/lib/python3.7/dist-packages (from icrawler) (4.6.3)\n",
            "Requirement already satisfied: lxml in /usr/local/lib/python3.7/dist-packages (from icrawler) (4.2.6)\n",
            "Requirement already satisfied: Pillow in /usr/local/lib/python3.7/dist-packages (from icrawler) (7.1.2)\n",
            "Requirement already satisfied: requests>=2.9.1 in /usr/local/lib/python3.7/dist-packages (from icrawler) (2.23.0)\n",
            "Requirement already satisfied: six>=1.10.0 in /usr/local/lib/python3.7/dist-packages (from icrawler) (1.15.0)\n",
            "Requirement already satisfied: certifi>=2017.4.17 in /usr/local/lib/python3.7/dist-packages (from requests>=2.9.1->icrawler) (2021.5.30)\n",
            "Requirement already satisfied: idna<3,>=2.5 in /usr/local/lib/python3.7/dist-packages (from requests>=2.9.1->icrawler) (2.10)\n",
            "Requirement already satisfied: chardet<4,>=3.0.2 in /usr/local/lib/python3.7/dist-packages (from requests>=2.9.1->icrawler) (3.0.4)\n",
            "Requirement already satisfied: urllib3!=1.25.0,!=1.25.1,<1.26,>=1.21.1 in /usr/local/lib/python3.7/dist-packages (from requests>=2.9.1->icrawler) (1.24.3)\n"
          ]
        },
        {
          "data": {
            "text/html": [
              "\n",
              "     <input type=\"file\" id=\"files-5b820829-86b5-4e08-bdf1-fab3f77a423c\" name=\"files[]\" multiple disabled\n",
              "        style=\"border:none\" />\n",
              "     <output id=\"result-5b820829-86b5-4e08-bdf1-fab3f77a423c\">\n",
              "      Upload widget is only available when the cell has been executed in the\n",
              "      current browser session. Please rerun this cell to enable.\n",
              "      </output>\n",
              "      <script src=\"/nbextensions/google.colab/files.js\"></script> "
            ],
            "text/plain": [
              "<IPython.core.display.HTML object>"
            ]
          },
          "metadata": {},
          "output_type": "display_data"
        },
        {
          "metadata": {
            "tags": null
          },
          "name": "stderr",
          "output_type": "stream",
          "text": [
            "2021-09-22 04:56:00,304 - INFO - downloader - image #141\thttp://i1.bagong.cn/45/a0/1e3e5e4ac48fb391d516bb25d75b_640x.jpg\n",
            "2021-09-22 04:56:01,231 - INFO - downloader - image #142\thttp://i1.bagong.cn/e0/12/d44f98654266befdf8555a7cf6a6_640x.jpg\n",
            "2021-09-22 04:56:01,317 - INFO - parser - parsing result page https://www.bing.com/images/async?q=猫&first=180\n",
            "2021-09-22 04:56:02,785 - INFO - downloader - image #143\thttp://www.baobeita.com/upload/image/product/202003/10647300/2fb74be0-40af-4b3f-a408-7e0875079d57-team.jpg\n",
            "2021-09-22 04:56:03,227 - INFO - downloader - image #144\thttps://pic4.zhimg.com/v2-c47cd2c6322e0dd75b45561b084ca314_r.jpg\n",
            "2021-09-22 04:56:06,171 - INFO - downloader - image #145\thttps://img.zcool.cn/community/0115bc5d56696ba8012187f4acbaeb.jpg\n"
          ]
        },
        {
          "metadata": {
            "tags": null
          },
          "name": "stdout",
          "output_type": "stream",
          "text": [
            "Saving Testdate1.JPG to Testdate1 (3).JPG\n"
          ]
        },
        {
          "metadata": {
            "tags": null
          },
          "name": "stderr",
          "output_type": "stream",
          "text": [
            "2021-09-22 04:56:07,331 - INFO - downloader - image #146\thttp://i1.bagong.cn/6d/e6/008a92d473de1b80e195c9191a0f_640x.jpg\n",
            "2021-09-22 04:56:07,367 - INFO - icrawler.crawler - start crawling...\n",
            "2021-09-22 04:56:07,369 - INFO - icrawler.crawler - starting 1 feeder threads...\n",
            "2021-09-22 04:56:07,374 - INFO - icrawler.crawler - starting 1 parser threads...\n",
            "2021-09-22 04:56:07,378 - INFO - icrawler.crawler - starting 1 downloader threads...\n",
            "2021-09-22 04:56:07,721 - INFO - parser - parsing result page https://www.bing.com/images/async?q=猫&first=0\n",
            "2021-09-22 04:56:07,742 - INFO - downloader - skip downloading file 000001.jpg\n",
            "2021-09-22 04:56:07,747 - INFO - downloader - skip downloading file 000002.jpg\n",
            "2021-09-22 04:56:07,749 - INFO - downloader - skip downloading file 000003.jpg\n",
            "2021-09-22 04:56:07,753 - INFO - downloader - skip downloading file 000004.jpg\n",
            "2021-09-22 04:56:07,756 - INFO - downloader - skip downloading file 000005.jpg\n",
            "2021-09-22 04:56:07,758 - INFO - downloader - skip downloading file 000006.jpg\n",
            "2021-09-22 04:56:07,761 - INFO - downloader - skip downloading file 000007.jpg\n",
            "2021-09-22 04:56:07,764 - INFO - downloader - skip downloading file 000008.jpg\n",
            "2021-09-22 04:56:07,767 - INFO - downloader - skip downloading file 000009.jpg\n",
            "2021-09-22 04:56:07,768 - INFO - downloader - skip downloading file 000010.jpg\n",
            "2021-09-22 04:56:07,772 - INFO - downloader - skip downloading file 000011.jpg\n",
            "2021-09-22 04:56:07,773 - INFO - downloader - skip downloading file 000012.jpg\n",
            "2021-09-22 04:56:07,777 - INFO - downloader - skip downloading file 000013.jpg\n",
            "2021-09-22 04:56:07,778 - INFO - downloader - skip downloading file 000014.jpg\n",
            "2021-09-22 04:56:07,782 - INFO - downloader - skip downloading file 000015.jpg\n",
            "2021-09-22 04:56:07,783 - INFO - downloader - skip downloading file 000016.jpg\n",
            "2021-09-22 04:56:07,788 - INFO - downloader - skip downloading file 000017.jpg\n",
            "2021-09-22 04:56:07,790 - INFO - downloader - skip downloading file 000018.jpg\n",
            "2021-09-22 04:56:07,795 - INFO - downloader - skip downloading file 000019.jpg\n",
            "2021-09-22 04:56:07,797 - INFO - downloader - skip downloading file 000020.jpg\n",
            "2021-09-22 04:56:07,800 - INFO - downloader - skip downloading file 000021.jpg\n",
            "2021-09-22 04:56:07,802 - INFO - downloader - skip downloading file 000022.jpg\n",
            "2021-09-22 04:56:07,805 - INFO - downloader - skip downloading file 000023.jpg\n",
            "2021-09-22 04:56:07,807 - INFO - downloader - skip downloading file 000024.jpg\n",
            "2021-09-22 04:56:07,809 - INFO - downloader - skip downloading file 000025.jpg\n",
            "2021-09-22 04:56:07,812 - INFO - downloader - skip downloading file 000026.jpg\n",
            "2021-09-22 04:56:07,814 - INFO - downloader - skip downloading file 000027.jpg\n",
            "2021-09-22 04:56:07,816 - INFO - downloader - skip downloading file 000028.jpg\n",
            "2021-09-22 04:56:07,820 - INFO - downloader - skip downloading file 000029.jpg\n",
            "2021-09-22 04:56:07,822 - INFO - downloader - skip downloading file 000030.jpg\n",
            "2021-09-22 04:56:07,829 - INFO - downloader - skip downloading file 000031.jpg\n",
            "2021-09-22 04:56:07,832 - INFO - downloader - skip downloading file 000032.jpg\n",
            "2021-09-22 04:56:07,833 - INFO - downloader - skip downloading file 000033.jpg\n",
            "2021-09-22 04:56:07,835 - INFO - downloader - skip downloading file 000034.jpg\n",
            "2021-09-22 04:56:07,838 - INFO - downloader - skip downloading file 000035.jpg\n",
            "2021-09-22 04:56:08,066 - INFO - parser - parsing result page https://www.bing.com/images/async?q=猫&first=20\n",
            "2021-09-22 04:56:08,087 - INFO - downloader - skip downloading file 000036.jpg\n",
            "2021-09-22 04:56:08,088 - INFO - downloader - skip downloading file 000037.jpg\n",
            "2021-09-22 04:56:08,093 - INFO - downloader - skip downloading file 000038.jpg\n",
            "2021-09-22 04:56:08,097 - INFO - downloader - skip downloading file 000039.jpg\n",
            "2021-09-22 04:56:08,101 - INFO - downloader - skip downloading file 000040.jpg\n",
            "2021-09-22 04:56:08,104 - INFO - downloader - skip downloading file 000041.jpg\n",
            "2021-09-22 04:56:08,106 - INFO - downloader - skip downloading file 000042.jpg\n",
            "2021-09-22 04:56:08,113 - INFO - downloader - skip downloading file 000043.jpg\n",
            "2021-09-22 04:56:08,116 - INFO - downloader - skip downloading file 000044.jpg\n",
            "2021-09-22 04:56:08,118 - INFO - downloader - skip downloading file 000045.jpg\n",
            "2021-09-22 04:56:08,121 - INFO - downloader - skip downloading file 000046.jpg\n",
            "2021-09-22 04:56:08,124 - INFO - downloader - skip downloading file 000047.jpg\n",
            "2021-09-22 04:56:08,127 - INFO - downloader - skip downloading file 000048.jpg\n",
            "2021-09-22 04:56:08,132 - INFO - downloader - skip downloading file 000049.jpg\n",
            "2021-09-22 04:56:08,134 - INFO - downloader - skip downloading file 000050.jpg\n",
            "2021-09-22 04:56:08,137 - INFO - downloader - skip downloading file 000051.jpg\n",
            "2021-09-22 04:56:08,140 - INFO - downloader - skip downloading file 000052.jpg\n",
            "2021-09-22 04:56:08,147 - INFO - downloader - skip downloading file 000053.jpg\n",
            "2021-09-22 04:56:08,148 - INFO - downloader - skip downloading file 000054.jpg\n",
            "2021-09-22 04:56:08,153 - INFO - downloader - skip downloading file 000055.jpg\n",
            "2021-09-22 04:56:08,155 - INFO - downloader - skip downloading file 000056.jpg\n",
            "2021-09-22 04:56:08,395 - INFO - parser - parsing result page https://www.bing.com/images/async?q=猫&first=40\n",
            "2021-09-22 04:56:08,416 - INFO - downloader - skip downloading file 000057.jpg\n",
            "2021-09-22 04:56:08,419 - INFO - downloader - skip downloading file 000058.jpg\n",
            "2021-09-22 04:56:08,423 - INFO - downloader - skip downloading file 000059.jpg\n",
            "2021-09-22 04:56:08,427 - INFO - downloader - skip downloading file 000060.jpg\n",
            "2021-09-22 04:56:08,431 - INFO - downloader - skip downloading file 000061.jpg\n",
            "2021-09-22 04:56:08,437 - INFO - downloader - skip downloading file 000062.jpg\n",
            "2021-09-22 04:56:08,440 - INFO - downloader - skip downloading file 000063.jpg\n",
            "2021-09-22 04:56:08,443 - INFO - downloader - skip downloading file 000064.jpg\n",
            "2021-09-22 04:56:08,445 - INFO - downloader - skip downloading file 000065.jpg\n",
            "2021-09-22 04:56:08,451 - INFO - downloader - skip downloading file 000066.jpg\n",
            "2021-09-22 04:56:08,454 - INFO - downloader - skip downloading file 000067.jpg\n",
            "2021-09-22 04:56:08,458 - INFO - downloader - skip downloading file 000068.jpg\n",
            "2021-09-22 04:56:08,460 - INFO - downloader - skip downloading file 000069.jpg\n",
            "2021-09-22 04:56:08,462 - INFO - downloader - skip downloading file 000070.jpg\n",
            "2021-09-22 04:56:08,465 - INFO - downloader - skip downloading file 000071.jpg\n",
            "2021-09-22 04:56:08,693 - INFO - downloader - image #147\thttps://img.zcool.cn/community/0138f35c1f7be9a8012029acf78c5c.jpg\n",
            "2021-09-22 04:56:08,742 - INFO - parser - parsing result page https://www.bing.com/images/async?q=猫&first=60\n",
            "2021-09-22 04:56:08,763 - INFO - downloader - skip downloading file 000072.jpg\n",
            "2021-09-22 04:56:08,764 - INFO - downloader - skip downloading file 000073.jpg\n",
            "2021-09-22 04:56:08,767 - INFO - downloader - skip downloading file 000074.jpg\n",
            "2021-09-22 04:56:08,769 - INFO - downloader - skip downloading file 000075.jpg\n",
            "2021-09-22 04:56:08,773 - INFO - downloader - skip downloading file 000076.jpg\n",
            "2021-09-22 04:56:08,775 - INFO - downloader - skip downloading file 000077.jpg\n",
            "2021-09-22 04:56:08,779 - INFO - downloader - skip downloading file 000078.jpg\n",
            "2021-09-22 04:56:08,782 - INFO - downloader - skip downloading file 000079.jpg\n",
            "2021-09-22 04:56:08,786 - INFO - downloader - skip downloading file 000080.jpg\n",
            "2021-09-22 04:56:08,790 - INFO - downloader - skip downloading file 000081.jpg\n",
            "2021-09-22 04:56:08,793 - INFO - downloader - skip downloading file 000082.jpg\n",
            "2021-09-22 04:56:08,797 - INFO - downloader - skip downloading file 000083.jpg\n",
            "2021-09-22 04:56:08,798 - INFO - feeder - thread feeder-001 exit\n",
            "2021-09-22 04:56:08,806 - INFO - downloader - skip downloading file 000084.jpg\n",
            "2021-09-22 04:56:08,810 - INFO - downloader - skip downloading file 000085.jpg\n",
            "2021-09-22 04:56:08,812 - INFO - downloader - skip downloading file 000086.jpg\n",
            "2021-09-22 04:56:08,814 - INFO - downloader - skip downloading file 000087.jpg\n",
            "2021-09-22 04:56:08,816 - INFO - downloader - skip downloading file 000088.jpg\n",
            "2021-09-22 04:56:09,051 - INFO - parser - parsing result page https://www.bing.com/images/async?q=猫&first=80\n",
            "2021-09-22 04:56:09,077 - INFO - downloader - skip downloading file 000089.jpg\n",
            "2021-09-22 04:56:09,079 - INFO - downloader - skip downloading file 000090.jpg\n",
            "2021-09-22 04:56:09,085 - INFO - downloader - skip downloading file 000091.jpg\n",
            "2021-09-22 04:56:09,087 - INFO - downloader - skip downloading file 000092.jpg\n",
            "2021-09-22 04:56:09,089 - INFO - downloader - skip downloading file 000093.jpg\n",
            "2021-09-22 04:56:09,093 - INFO - downloader - skip downloading file 000094.jpg\n",
            "2021-09-22 04:56:09,095 - INFO - downloader - skip downloading file 000095.jpg\n",
            "2021-09-22 04:56:09,097 - INFO - downloader - skip downloading file 000096.jpg\n",
            "2021-09-22 04:56:09,105 - INFO - downloader - skip downloading file 000097.jpg\n",
            "2021-09-22 04:56:09,107 - INFO - downloader - skip downloading file 000098.jpg\n",
            "2021-09-22 04:56:09,110 - INFO - downloader - skip downloading file 000099.jpg\n",
            "2021-09-22 04:56:09,111 - INFO - downloader - skip downloading file 000100.jpg\n",
            "2021-09-22 04:56:09,113 - INFO - downloader - skip downloading file 000101.jpg\n",
            "2021-09-22 04:56:09,345 - INFO - parser - parsing result page https://www.bing.com/images/async?q=猫&first=100\n",
            "2021-09-22 04:56:09,366 - INFO - downloader - skip downloading file 000102.jpg\n",
            "2021-09-22 04:56:09,370 - INFO - downloader - skip downloading file 000103.jpg\n",
            "2021-09-22 04:56:09,372 - INFO - downloader - skip downloading file 000104.jpg\n",
            "2021-09-22 04:56:09,375 - INFO - downloader - skip downloading file 000105.jpg\n",
            "2021-09-22 04:56:09,377 - INFO - downloader - skip downloading file 000106.jpg\n",
            "2021-09-22 04:56:09,379 - INFO - downloader - skip downloading file 000107.jpg\n",
            "2021-09-22 04:56:09,383 - INFO - downloader - skip downloading file 000108.jpg\n",
            "2021-09-22 04:56:09,385 - INFO - downloader - skip downloading file 000109.jpg\n",
            "2021-09-22 04:56:09,388 - INFO - downloader - skip downloading file 000110.jpg\n",
            "2021-09-22 04:56:09,390 - INFO - downloader - skip downloading file 000111.jpg\n",
            "2021-09-22 04:56:09,393 - INFO - downloader - skip downloading file 000112.jpg\n",
            "2021-09-22 04:56:09,399 - INFO - downloader - skip downloading file 000113.jpg\n",
            "2021-09-22 04:56:09,401 - INFO - downloader - skip downloading file 000114.jpg\n",
            "2021-09-22 04:56:09,403 - INFO - downloader - skip downloading file 000115.jpg\n",
            "2021-09-22 04:56:09,404 - INFO - downloader - skip downloading file 000116.jpg\n",
            "2021-09-22 04:56:09,406 - INFO - downloader - skip downloading file 000117.jpg\n",
            "2021-09-22 04:56:09,646 - INFO - parser - parsing result page https://www.bing.com/images/async?q=猫&first=120\n",
            "2021-09-22 04:56:09,671 - INFO - downloader - skip downloading file 000118.jpg\n",
            "2021-09-22 04:56:09,672 - INFO - downloader - skip downloading file 000119.jpg\n",
            "2021-09-22 04:56:09,676 - INFO - downloader - skip downloading file 000120.jpg\n",
            "2021-09-22 04:56:09,681 - INFO - downloader - skip downloading file 000121.jpg\n",
            "2021-09-22 04:56:09,683 - INFO - downloader - skip downloading file 000122.jpg\n",
            "2021-09-22 04:56:09,686 - INFO - downloader - skip downloading file 000123.jpg\n",
            "2021-09-22 04:56:09,689 - INFO - downloader - skip downloading file 000124.jpg\n",
            "2021-09-22 04:56:09,694 - INFO - downloader - skip downloading file 000125.jpg\n",
            "2021-09-22 04:56:09,699 - INFO - downloader - skip downloading file 000126.jpg\n",
            "2021-09-22 04:56:09,703 - INFO - downloader - skip downloading file 000127.jpg\n",
            "2021-09-22 04:56:09,705 - INFO - downloader - skip downloading file 000128.jpg\n",
            "2021-09-22 04:56:09,708 - INFO - downloader - skip downloading file 000129.jpg\n",
            "2021-09-22 04:56:09,711 - INFO - downloader - skip downloading file 000130.jpg\n",
            "2021-09-22 04:56:09,714 - INFO - downloader - skip downloading file 000131.jpg\n",
            "2021-09-22 04:56:09,945 - INFO - parser - parsing result page https://www.bing.com/images/async?q=猫&first=140\n",
            "2021-09-22 04:56:09,948 - INFO - downloader - image #148\thttps://img.zcool.cn/community/01887c5cebd1b9a80121a470ac6adb.jpg\n",
            "2021-09-22 04:56:09,974 - INFO - downloader - skip downloading file 000132.jpg\n",
            "2021-09-22 04:56:09,976 - INFO - downloader - skip downloading file 000133.jpg\n",
            "2021-09-22 04:56:09,977 - INFO - downloader - skip downloading file 000134.jpg\n",
            "2021-09-22 04:56:09,986 - INFO - downloader - skip downloading file 000135.jpg\n",
            "2021-09-22 04:56:09,991 - INFO - downloader - skip downloading file 000136.jpg\n",
            "2021-09-22 04:56:09,994 - INFO - downloader - skip downloading file 000137.jpg\n",
            "2021-09-22 04:56:09,998 - INFO - downloader - skip downloading file 000138.jpg\n",
            "2021-09-22 04:56:09,999 - INFO - downloader - skip downloading file 000139.jpg\n",
            "2021-09-22 04:56:10,002 - INFO - downloader - skip downloading file 000140.jpg\n",
            "2021-09-22 04:56:10,005 - INFO - downloader - skip downloading file 000141.jpg\n",
            "2021-09-22 04:56:10,008 - INFO - downloader - skip downloading file 000142.jpg\n",
            "2021-09-22 04:56:10,014 - INFO - downloader - skip downloading file 000143.jpg\n",
            "2021-09-22 04:56:10,016 - INFO - downloader - skip downloading file 000144.jpg\n",
            "2021-09-22 04:56:10,018 - INFO - downloader - skip downloading file 000145.jpg\n",
            "2021-09-22 04:56:10,020 - INFO - downloader - skip downloading file 000146.jpg\n",
            "2021-09-22 04:56:10,022 - INFO - downloader - skip downloading file 000147.jpg\n",
            "2021-09-22 04:56:10,250 - INFO - parser - parsing result page https://www.bing.com/images/async?q=猫&first=160\n",
            "2021-09-22 04:56:10,274 - INFO - downloader - skip downloading file 000148.jpg\n",
            "2021-09-22 04:56:13,535 - INFO - downloader - image #149\thttps://img.zcool.cn/community/01ad485d566969a8012187f4ff39e0.jpg\n",
            "2021-09-22 04:56:14,893 - INFO - downloader - image #150\thttps://img.zcool.cn/community/01c4505d96bb99a801211d5354e2de.jpg\n",
            "2021-09-22 04:56:15,677 - ERROR - downloader - Exception caught when downloading file https://img.zcool.cn/community/010b8e5d4e305fa80120695c1913a6.jpg, error: HTTPSConnectionPool(host='img.zcool.cn', port=443): Read timed out. (read timeout=5), remaining retry times: 2\n",
            "2021-09-22 04:56:17,546 - INFO - parser - no more page urls for thread parser-001 to parse\n",
            "2021-09-22 04:56:17,549 - INFO - parser - thread parser-001 exit\n",
            "2021-09-22 04:56:17,842 - INFO - downloader - image #151\thttps://pethomeweb.oss-cn-beijing.aliyuncs.com/uploads/20190926/f53fbeb2384c262d85cb48b39c95b4ac.jpg\n",
            "2021-09-22 04:56:18,097 - INFO - downloader - image #152\thttps://cdn.snsimg.carview.co.jp/carlife/images/User/2978427/p1.jpg\n",
            "2021-09-22 04:56:19,231 - INFO - downloader - image #153\thttps://img.zcool.cn/community/013259554bd92e000001bf72a4dfca.jpg\n",
            "2021-09-22 04:56:20,367 - INFO - downloader - image #154\thttps://img.zcool.cn/community/01f6c15d4e3153a80120695c328d5a.jpg\n",
            "2021-09-22 04:56:20,737 - INFO - downloader - image #155\thttps://p1.ssl.qhmsg.com/dr/270_500_/t01e7c9e7bbf3e11997.jpg\n",
            "2021-09-22 04:56:20,954 - ERROR - downloader - Exception caught when downloading file https://img.zcool.cn/community/010b8e5d4e305fa80120695c1913a6.jpg, error: HTTPSConnectionPool(host='img.zcool.cn', port=443): Read timed out. (read timeout=5), remaining retry times: 1\n",
            "2021-09-22 04:56:23,766 - INFO - downloader - image #149\thttps://img.zcool.cn/community/010b8e5d4e305fa80120695c1913a6.jpg\n",
            "2021-09-22 04:56:23,775 - INFO - downloader - skip downloading file 000150.jpg\n",
            "2021-09-22 04:56:23,777 - INFO - downloader - skip downloading file 000151.jpg\n",
            "2021-09-22 04:56:23,779 - INFO - downloader - skip downloading file 000152.jpg\n",
            "2021-09-22 04:56:23,784 - INFO - downloader - skip downloading file 000153.jpg\n",
            "2021-09-22 04:56:23,786 - INFO - downloader - skip downloading file 000154.jpg\n",
            "2021-09-22 04:56:24,293 - INFO - downloader - skip downloading file 000155.jpg\n",
            "2021-09-22 04:56:24,593 - INFO - parser - parsing result page https://www.bing.com/images/async?q=猫&first=180\n",
            "2021-09-22 04:56:25,374 - INFO - downloader - image #156\thttps://img.zcool.cn/community/0138f35c1f7be9a8012029acf78c5c.jpg\n",
            "2021-09-22 04:56:25,740 - INFO - downloader - downloader-001 is waiting for new download tasks\n",
            "2021-09-22 04:56:26,392 - INFO - downloader - image #157\thttps://img.zcool.cn/community/01887c5cebd1b9a80121a470ac6adb.jpg\n",
            "2021-09-22 04:56:27,319 - INFO - downloader - image #158\thttps://img.zcool.cn/community/0104995d390fa1a80120695c5c4450.jpg\n",
            "2021-09-22 04:56:28,787 - INFO - downloader - image #159\thttps://img.zcool.cn/community/01ad485d566969a8012187f4ff39e0.jpg\n",
            "2021-09-22 04:56:29,990 - INFO - downloader - image #160\thttps://img.zcool.cn/community/01c4505d96bb99a801211d5354e2de.jpg\n",
            "2021-09-22 04:56:30,742 - INFO - downloader - downloader-001 is waiting for new download tasks\n",
            "2021-09-22 04:56:31,148 - INFO - downloader - image #161\thttps://img.zcool.cn/community/01a6db5d390c78a8012187f46630a0.jpg\n",
            "2021-09-22 04:56:34,002 - INFO - parser - no more page urls for thread parser-001 to parse\n",
            "2021-09-22 04:56:34,005 - INFO - parser - thread parser-001 exit\n",
            "2021-09-22 04:56:34,093 - INFO - downloader - image #162\thttps://pethomeweb.oss-cn-beijing.aliyuncs.com/uploads/20190926/f53fbeb2384c262d85cb48b39c95b4ac.jpg\n",
            "2021-09-22 04:56:34,199 - INFO - downloader - image #163\thttps://cdn.snsimg.carview.co.jp/carlife/images/User/2978427/p1.jpg\n",
            "2021-09-22 04:56:34,483 - INFO - downloader - image #164\thttps://img.zcool.cn/community/013259554bd92e000001bf72a4dfca.jpg\n",
            "2021-09-22 04:56:35,318 - INFO - downloader - image #165\thttps://img.zcool.cn/community/01f6c15d4e3153a80120695c328d5a.jpg\n",
            "2021-09-22 04:56:35,747 - INFO - downloader - downloader-001 is waiting for new download tasks\n",
            "2021-09-22 04:56:38,485 - INFO - downloader - image #166\thttps://www.chongso.com/uploads/allimg/191113/3-191113150133.jpg\n",
            "2021-09-22 04:56:38,838 - INFO - downloader - image #167\thttps://pic2.zhimg.com/v2-422c854f2d290c7c68452d5d3be50240_r.jpg\n",
            "2021-09-22 04:56:40,749 - INFO - downloader - downloader-001 is waiting for new download tasks\n",
            "2021-09-22 04:56:43,845 - INFO - downloader - no more download task for thread downloader-001\n",
            "2021-09-22 04:56:43,847 - INFO - downloader - thread downloader-001 exit\n",
            "2021-09-22 04:56:44,424 - INFO - icrawler.crawler - Crawling task done!\n",
            "2021-09-22 04:56:44,436 - INFO - icrawler.crawler - start crawling...\n",
            "2021-09-22 04:56:44,438 - INFO - icrawler.crawler - starting 1 feeder threads...\n",
            "2021-09-22 04:56:44,445 - INFO - icrawler.crawler - starting 1 parser threads...\n",
            "2021-09-22 04:56:44,448 - INFO - icrawler.crawler - starting 1 downloader threads...\n",
            "2021-09-22 04:56:44,740 - INFO - parser - parsing result page https://www.bing.com/images/async?q=犬&first=0\n",
            "2021-09-22 04:56:44,761 - INFO - downloader - skip downloading file 000001.jpg\n",
            "2021-09-22 04:56:44,763 - INFO - downloader - skip downloading file 000002.jpg\n",
            "2021-09-22 04:56:44,769 - INFO - downloader - skip downloading file 000003.jpg\n",
            "2021-09-22 04:56:44,773 - INFO - downloader - skip downloading file 000004.jpg\n",
            "2021-09-22 04:56:44,777 - INFO - downloader - skip downloading file 000005.jpg\n",
            "2021-09-22 04:56:44,781 - INFO - downloader - skip downloading file 000006.jpg\n",
            "2021-09-22 04:56:44,784 - INFO - downloader - skip downloading file 000007.jpg\n",
            "2021-09-22 04:56:44,788 - INFO - downloader - skip downloading file 000008.jpg\n",
            "2021-09-22 04:56:44,790 - INFO - downloader - skip downloading file 000009.jpg\n",
            "2021-09-22 04:56:44,793 - INFO - downloader - skip downloading file 000010.jpg\n",
            "2021-09-22 04:56:44,797 - INFO - downloader - skip downloading file 000011.jpg\n",
            "2021-09-22 04:56:44,800 - INFO - downloader - skip downloading file 000012.jpg\n",
            "2021-09-22 04:56:44,802 - INFO - downloader - skip downloading file 000013.jpg\n",
            "2021-09-22 04:56:44,804 - INFO - downloader - skip downloading file 000014.jpg\n",
            "2021-09-22 04:56:44,808 - INFO - downloader - skip downloading file 000015.jpg\n",
            "2021-09-22 04:56:44,810 - INFO - downloader - skip downloading file 000016.jpg\n",
            "2021-09-22 04:56:44,813 - INFO - downloader - skip downloading file 000017.jpg\n",
            "2021-09-22 04:56:44,815 - INFO - downloader - skip downloading file 000018.jpg\n",
            "2021-09-22 04:56:44,818 - INFO - downloader - skip downloading file 000019.jpg\n",
            "2021-09-22 04:56:44,820 - INFO - downloader - skip downloading file 000020.jpg\n",
            "2021-09-22 04:56:44,822 - INFO - downloader - skip downloading file 000021.jpg\n",
            "2021-09-22 04:56:44,824 - INFO - downloader - skip downloading file 000022.jpg\n",
            "2021-09-22 04:56:44,827 - INFO - downloader - skip downloading file 000023.jpg\n",
            "2021-09-22 04:56:44,835 - INFO - downloader - skip downloading file 000024.jpg\n",
            "2021-09-22 04:56:44,837 - INFO - downloader - skip downloading file 000025.jpg\n",
            "2021-09-22 04:56:44,838 - INFO - downloader - skip downloading file 000026.jpg\n",
            "2021-09-22 04:56:44,840 - INFO - downloader - skip downloading file 000027.jpg\n",
            "2021-09-22 04:56:44,842 - INFO - downloader - skip downloading file 000028.jpg\n",
            "2021-09-22 04:56:45,051 - INFO - parser - parsing result page https://www.bing.com/images/async?q=犬&first=20\n",
            "2021-09-22 04:56:45,072 - INFO - downloader - skip downloading file 000029.jpg\n",
            "2021-09-22 04:56:45,074 - INFO - downloader - skip downloading file 000030.jpg\n",
            "2021-09-22 04:56:45,078 - INFO - downloader - skip downloading file 000031.jpg\n",
            "2021-09-22 04:56:45,080 - INFO - downloader - skip downloading file 000032.jpg\n",
            "2021-09-22 04:56:45,084 - INFO - downloader - skip downloading file 000033.jpg\n",
            "2021-09-22 04:56:45,087 - INFO - downloader - skip downloading file 000034.jpg\n",
            "2021-09-22 04:56:45,089 - INFO - downloader - skip downloading file 000035.jpg\n",
            "2021-09-22 04:56:45,096 - INFO - downloader - skip downloading file 000036.jpg\n",
            "2021-09-22 04:56:45,100 - INFO - downloader - skip downloading file 000037.jpg\n",
            "2021-09-22 04:56:45,106 - INFO - downloader - skip downloading file 000038.jpg\n",
            "2021-09-22 04:56:45,110 - INFO - downloader - skip downloading file 000039.jpg\n",
            "2021-09-22 04:56:45,111 - INFO - downloader - skip downloading file 000040.jpg\n",
            "2021-09-22 04:56:45,115 - INFO - downloader - skip downloading file 000041.jpg\n",
            "2021-09-22 04:56:45,118 - INFO - downloader - skip downloading file 000042.jpg\n",
            "2021-09-22 04:56:45,321 - INFO - parser - parsing result page https://www.bing.com/images/async?q=犬&first=40\n",
            "2021-09-22 04:56:45,346 - INFO - downloader - skip downloading file 000043.jpg\n",
            "2021-09-22 04:56:45,348 - INFO - downloader - skip downloading file 000044.jpg\n",
            "2021-09-22 04:56:45,354 - INFO - downloader - skip downloading file 000045.jpg\n",
            "2021-09-22 04:56:45,356 - INFO - downloader - skip downloading file 000046.jpg\n",
            "2021-09-22 04:56:45,360 - INFO - downloader - skip downloading file 000047.jpg\n",
            "2021-09-22 04:56:45,362 - INFO - downloader - skip downloading file 000048.jpg\n",
            "2021-09-22 04:56:45,368 - INFO - downloader - skip downloading file 000049.jpg\n",
            "2021-09-22 04:56:45,376 - INFO - downloader - skip downloading file 000050.jpg\n",
            "2021-09-22 04:56:45,378 - INFO - downloader - skip downloading file 000051.jpg\n",
            "2021-09-22 04:56:45,380 - INFO - downloader - skip downloading file 000052.jpg\n",
            "2021-09-22 04:56:45,383 - INFO - downloader - skip downloading file 000053.jpg\n",
            "2021-09-22 04:56:45,611 - INFO - parser - parsing result page https://www.bing.com/images/async?q=犬&first=60\n",
            "2021-09-22 04:56:45,632 - INFO - downloader - skip downloading file 000054.jpg\n",
            "2021-09-22 04:56:45,634 - INFO - downloader - skip downloading file 000055.jpg\n",
            "2021-09-22 04:56:45,637 - INFO - downloader - skip downloading file 000056.jpg\n",
            "2021-09-22 04:56:45,642 - INFO - downloader - skip downloading file 000057.jpg\n",
            "2021-09-22 04:56:45,644 - INFO - downloader - skip downloading file 000058.jpg\n",
            "2021-09-22 04:56:45,648 - INFO - downloader - skip downloading file 000059.jpg\n",
            "2021-09-22 04:56:45,651 - INFO - downloader - skip downloading file 000060.jpg\n",
            "2021-09-22 04:56:45,653 - INFO - downloader - skip downloading file 000061.jpg\n",
            "2021-09-22 04:56:45,658 - INFO - feeder - thread feeder-001 exit\n",
            "2021-09-22 04:56:45,661 - INFO - downloader - skip downloading file 000062.jpg\n",
            "2021-09-22 04:56:45,666 - INFO - downloader - skip downloading file 000063.jpg\n",
            "2021-09-22 04:56:45,668 - INFO - downloader - skip downloading file 000064.jpg\n",
            "2021-09-22 04:56:45,676 - INFO - downloader - skip downloading file 000065.jpg\n",
            "2021-09-22 04:56:45,682 - INFO - downloader - skip downloading file 000066.jpg\n",
            "2021-09-22 04:56:45,752 - INFO - downloader - downloader-001 is waiting for new download tasks\n",
            "2021-09-22 04:56:45,886 - INFO - parser - parsing result page https://www.bing.com/images/async?q=犬&first=80\n",
            "2021-09-22 04:56:45,907 - INFO - downloader - skip downloading file 000067.jpg\n",
            "2021-09-22 04:56:45,909 - INFO - downloader - skip downloading file 000068.jpg\n",
            "2021-09-22 04:56:45,912 - INFO - downloader - skip downloading file 000069.jpg\n",
            "2021-09-22 04:56:45,915 - INFO - downloader - skip downloading file 000070.jpg\n",
            "2021-09-22 04:56:45,921 - INFO - downloader - skip downloading file 000071.jpg\n",
            "2021-09-22 04:56:45,926 - INFO - downloader - skip downloading file 000072.jpg\n",
            "2021-09-22 04:56:45,929 - INFO - downloader - skip downloading file 000073.jpg\n",
            "2021-09-22 04:56:45,932 - INFO - downloader - skip downloading file 000074.jpg\n",
            "2021-09-22 04:56:45,934 - INFO - downloader - skip downloading file 000075.jpg\n",
            "2021-09-22 04:56:45,938 - INFO - downloader - skip downloading file 000076.jpg\n",
            "2021-09-22 04:56:45,947 - INFO - downloader - skip downloading file 000077.jpg\n",
            "2021-09-22 04:56:45,953 - INFO - downloader - skip downloading file 000078.jpg\n",
            "2021-09-22 04:56:45,955 - INFO - downloader - skip downloading file 000079.jpg\n",
            "2021-09-22 04:56:45,957 - INFO - downloader - skip downloading file 000080.jpg\n",
            "2021-09-22 04:56:45,959 - INFO - downloader - skip downloading file 000081.jpg\n",
            "2021-09-22 04:56:46,165 - INFO - parser - parsing result page https://www.bing.com/images/async?q=犬&first=100\n",
            "2021-09-22 04:56:46,191 - INFO - downloader - skip downloading file 000082.jpg\n",
            "2021-09-22 04:56:46,193 - INFO - downloader - skip downloading file 000083.jpg\n",
            "2021-09-22 04:56:46,195 - INFO - downloader - skip downloading file 000084.jpg\n",
            "2021-09-22 04:56:46,197 - INFO - downloader - skip downloading file 000085.jpg\n",
            "2021-09-22 04:56:46,199 - INFO - downloader - skip downloading file 000086.jpg\n",
            "2021-09-22 04:56:46,214 - INFO - downloader - skip downloading file 000087.jpg\n",
            "2021-09-22 04:56:46,216 - INFO - downloader - skip downloading file 000088.jpg\n",
            "2021-09-22 04:56:46,220 - INFO - downloader - skip downloading file 000089.jpg\n",
            "2021-09-22 04:56:46,224 - INFO - downloader - skip downloading file 000090.jpg\n",
            "2021-09-22 04:56:46,225 - INFO - downloader - skip downloading file 000091.jpg\n",
            "2021-09-22 04:56:46,234 - INFO - downloader - skip downloading file 000092.jpg\n",
            "2021-09-22 04:56:46,236 - INFO - downloader - skip downloading file 000093.jpg\n",
            "2021-09-22 04:56:46,241 - INFO - downloader - skip downloading file 000094.jpg\n",
            "2021-09-22 04:56:46,244 - INFO - downloader - skip downloading file 000095.jpg\n",
            "2021-09-22 04:56:46,552 - INFO - parser - parsing result page https://www.bing.com/images/async?q=犬&first=120\n",
            "2021-09-22 04:56:46,577 - INFO - downloader - skip downloading file 000096.jpg\n",
            "2021-09-22 04:56:46,579 - INFO - downloader - skip downloading file 000097.jpg\n",
            "2021-09-22 04:56:46,584 - INFO - downloader - skip downloading file 000098.jpg\n",
            "2021-09-22 04:56:46,586 - INFO - downloader - skip downloading file 000099.jpg\n",
            "2021-09-22 04:56:46,590 - INFO - downloader - skip downloading file 000100.jpg\n",
            "2021-09-22 04:56:46,594 - INFO - downloader - skip downloading file 000101.jpg\n",
            "2021-09-22 04:56:46,597 - INFO - downloader - skip downloading file 000102.jpg\n",
            "2021-09-22 04:56:46,601 - INFO - downloader - skip downloading file 000103.jpg\n",
            "2021-09-22 04:56:46,605 - INFO - downloader - skip downloading file 000104.jpg\n",
            "2021-09-22 04:56:46,607 - INFO - downloader - skip downloading file 000105.jpg\n",
            "2021-09-22 04:56:46,612 - INFO - downloader - skip downloading file 000106.jpg\n",
            "2021-09-22 04:56:46,615 - INFO - downloader - skip downloading file 000107.jpg\n",
            "2021-09-22 04:56:46,618 - INFO - downloader - skip downloading file 000108.jpg\n",
            "2021-09-22 04:56:46,861 - INFO - parser - parsing result page https://www.bing.com/images/async?q=犬&first=140\n",
            "2021-09-22 04:56:46,883 - INFO - downloader - skip downloading file 000109.jpg\n",
            "2021-09-22 04:56:46,885 - INFO - downloader - skip downloading file 000110.jpg\n",
            "2021-09-22 04:56:46,889 - INFO - downloader - skip downloading file 000111.jpg\n",
            "2021-09-22 04:56:46,894 - INFO - downloader - skip downloading file 000112.jpg\n",
            "2021-09-22 04:56:46,898 - INFO - downloader - skip downloading file 000113.jpg\n",
            "2021-09-22 04:56:46,905 - INFO - downloader - skip downloading file 000114.jpg\n",
            "2021-09-22 04:56:46,910 - INFO - downloader - skip downloading file 000115.jpg\n",
            "2021-09-22 04:56:46,913 - INFO - downloader - skip downloading file 000116.jpg\n",
            "2021-09-22 04:56:46,918 - INFO - downloader - skip downloading file 000117.jpg\n",
            "2021-09-22 04:56:46,922 - INFO - downloader - skip downloading file 000118.jpg\n",
            "2021-09-22 04:56:46,928 - INFO - downloader - skip downloading file 000119.jpg\n",
            "2021-09-22 04:56:46,931 - INFO - downloader - skip downloading file 000120.jpg\n",
            "2021-09-22 04:56:46,932 - INFO - downloader - skip downloading file 000121.jpg\n",
            "2021-09-22 04:56:46,934 - INFO - downloader - skip downloading file 000122.jpg\n",
            "2021-09-22 04:56:46,938 - INFO - downloader - skip downloading file 000123.jpg\n",
            "2021-09-22 04:56:47,153 - INFO - parser - parsing result page https://www.bing.com/images/async?q=犬&first=160\n",
            "2021-09-22 04:56:47,175 - INFO - downloader - skip downloading file 000124.jpg\n",
            "2021-09-22 04:56:47,176 - INFO - downloader - skip downloading file 000125.jpg\n",
            "2021-09-22 04:56:47,180 - INFO - downloader - skip downloading file 000126.jpg\n",
            "2021-09-22 04:56:47,182 - INFO - downloader - skip downloading file 000127.jpg\n",
            "2021-09-22 04:56:47,186 - INFO - downloader - skip downloading file 000128.jpg\n",
            "2021-09-22 04:56:47,189 - INFO - downloader - skip downloading file 000129.jpg\n",
            "2021-09-22 04:56:47,191 - INFO - downloader - skip downloading file 000130.jpg\n",
            "2021-09-22 04:56:47,196 - INFO - downloader - skip downloading file 000131.jpg\n",
            "2021-09-22 04:56:47,200 - INFO - downloader - skip downloading file 000132.jpg\n",
            "2021-09-22 04:56:47,204 - INFO - downloader - skip downloading file 000133.jpg\n",
            "2021-09-22 04:56:47,207 - INFO - downloader - skip downloading file 000134.jpg\n",
            "2021-09-22 04:56:47,217 - INFO - downloader - skip downloading file 000135.jpg\n",
            "2021-09-22 04:56:47,220 - INFO - downloader - skip downloading file 000136.jpg\n",
            "2021-09-22 04:56:47,223 - INFO - downloader - skip downloading file 000137.jpg\n",
            "2021-09-22 04:56:47,224 - INFO - downloader - skip downloading file 000138.jpg\n",
            "2021-09-22 04:56:47,227 - INFO - downloader - skip downloading file 000139.jpg\n",
            "2021-09-22 04:56:47,439 - INFO - parser - parsing result page https://www.bing.com/images/async?q=犬&first=180\n",
            "2021-09-22 04:56:47,470 - INFO - downloader - skip downloading file 000140.jpg\n",
            "2021-09-22 04:56:47,471 - INFO - downloader - skip downloading file 000141.jpg\n",
            "2021-09-22 04:56:47,476 - INFO - downloader - skip downloading file 000142.jpg\n",
            "2021-09-22 04:56:47,478 - INFO - downloader - skip downloading file 000143.jpg\n",
            "2021-09-22 04:56:47,480 - INFO - downloader - skip downloading file 000144.jpg\n",
            "2021-09-22 04:56:47,481 - INFO - downloader - skip downloading file 000145.jpg\n",
            "2021-09-22 04:56:47,483 - INFO - downloader - skip downloading file 000146.jpg\n",
            "2021-09-22 04:56:47,648 - INFO - downloader - image #147\thttps://cdn-ak.f.st-hatena.com/images/fotolife/M/MakoM/20190623/20190623103225.jpg\n",
            "2021-09-22 04:56:47,673 - INFO - downloader - image #148\thttps://cdn-ak.f.st-hatena.com/images/fotolife/C/Canis_lupus_albus/20170316/20170316221503.jpg\n",
            "2021-09-22 04:56:48,338 - INFO - downloader - image #149\thttp://livedoor.blogimg.jp/satooya300/imgs/b/4/b444e201.jpg\n",
            "2021-09-22 04:56:48,511 - INFO - downloader - image #150\thttp://stat.ameba.jp/user_images/20150415/13/ryukyu-rin/f1/8f/j/o0450060013276839166.jpg\n",
            "2021-09-22 04:56:49,493 - INFO - parser - no more page urls for thread parser-001 to parse\n",
            "2021-09-22 04:56:49,494 - INFO - parser - thread parser-001 exit\n",
            "2021-09-22 04:56:50,754 - INFO - downloader - downloader-001 is waiting for new download tasks\n",
            "2021-09-22 04:56:53,517 - INFO - downloader - no more download task for thread downloader-001\n",
            "2021-09-22 04:56:53,519 - INFO - downloader - thread downloader-001 exit\n",
            "2021-09-22 04:56:54,471 - INFO - icrawler.crawler - Crawling task done!\n"
          ]
        },
        {
          "data": {
            "image/jpeg": "[encoded data removed]"
          },
          "metadata": {},
          "output_type": "display_data"
        },
        {
          "metadata": {
            "tags": null
          },
          "name": "stderr",
          "output_type": "stream",
          "text": [
            "2021-09-22 04:56:55,756 - INFO - downloader - downloader-001 is waiting for new download tasks\n",
            "2021-09-22 04:57:00,768 - INFO - downloader - downloader-001 is waiting for new download tasks\n",
            "2021-09-22 04:57:05,770 - INFO - downloader - downloader-001 is waiting for new download tasks\n",
            "2021-09-22 04:57:10,781 - INFO - downloader - downloader-001 is waiting for new download tasks\n",
            "2021-09-22 04:57:15,785 - INFO - downloader - downloader-001 is waiting for new download tasks\n",
            "/usr/local/lib/python3.7/dist-packages/numpy/core/_asarray.py:136: VisibleDeprecationWarning: Creating an ndarray from ragged nested sequences (which is a list-or-tuple of lists-or-tuples-or ndarrays with different lengths or shapes) is deprecated. If you meant to do this, you must specify 'dtype=object' when creating the ndarray\n",
            "  return array(a, dtype, copy=False, order=order, subok=True)\n",
            "2021-09-22 04:57:25,227 - INFO - downloader - downloader-001 is waiting for new download tasks\n",
            "/usr/local/lib/python3.7/dist-packages/keras/optimizer_v2/optimizer_v2.py:356: UserWarning: The `lr` argument is deprecated, use `learning_rate` instead.\n",
            "  \"The `lr` argument is deprecated, use `learning_rate` instead.\")\n"
          ]
        },
        {
          "metadata": {
            "tags": null
          },
          "name": "stdout",
          "output_type": "stream",
          "text": [
            "Epoch 1/200\n"
          ]
        },
        {
          "metadata": {
            "tags": null
          },
          "name": "stderr",
          "output_type": "stream",
          "text": [
            "2021-09-22 04:57:30,251 - INFO - downloader - downloader-001 is waiting for new download tasks\n",
            "2021-09-22 04:57:35,253 - INFO - downloader - downloader-001 is waiting for new download tasks\n",
            "2021-09-22 04:57:40,255 - INFO - downloader - downloader-001 is waiting for new download tasks\n",
            "2021-09-22 04:57:45,257 - INFO - downloader - downloader-001 is waiting for new download tasks\n",
            "2021-09-22 04:57:50,259 - INFO - downloader - downloader-001 is waiting for new download tasks\n",
            "2021-09-22 04:57:55,262 - INFO - downloader - downloader-001 is waiting for new download tasks\n"
          ]
        },
        {
          "metadata": {
            "tags": null
          },
          "name": "stdout",
          "output_type": "stream",
          "text": [
            " 69/153 [============>.................] - ETA: 2s - loss: 0.6413 - accuracy: 0.6341"
          ]
        },
        {
          "metadata": {
            "tags": null
          },
          "name": "stderr",
          "output_type": "stream",
          "text": [
            "2021-09-22 04:58:00,267 - INFO - downloader - downloader-001 is waiting for new download tasks\n"
          ]
        },
        {
          "metadata": {
            "tags": null
          },
          "name": "stdout",
          "output_type": "stream",
          "text": [
            "153/153 [==============================] - 37s 31ms/step - loss: 0.6005 - accuracy: 0.6713\n",
            "Epoch 2/200\n",
            " 79/153 [==============>...............] - ETA: 2s - loss: 0.5302 - accuracy: 0.7206"
          ]
        },
        {
          "metadata": {
            "tags": null
          },
          "name": "stderr",
          "output_type": "stream",
          "text": [
            "2021-09-22 04:58:05,269 - INFO - downloader - downloader-001 is waiting for new download tasks\n"
          ]
        },
        {
          "metadata": {
            "tags": null
          },
          "name": "stdout",
          "output_type": "stream",
          "text": [
            "153/153 [==============================] - 4s 29ms/step - loss: 0.5210 - accuracy: 0.7243\n",
            "Epoch 3/200\n",
            " 97/153 [==================>...........] - ETA: 1s - loss: 0.4968 - accuracy: 0.7390"
          ]
        },
        {
          "metadata": {
            "tags": null
          },
          "name": "stderr",
          "output_type": "stream",
          "text": [
            "2021-09-22 04:58:10,271 - INFO - downloader - downloader-001 is waiting for new download tasks\n"
          ]
        },
        {
          "metadata": {
            "tags": null
          },
          "name": "stdout",
          "output_type": "stream",
          "text": [
            "153/153 [==============================] - 4s 29ms/step - loss: 0.4931 - accuracy: 0.7470\n",
            "Epoch 4/200\n",
            "115/153 [=====================>........] - ETA: 1s - loss: 0.4708 - accuracy: 0.7612"
          ]
        },
        {
          "metadata": {
            "tags": null
          },
          "name": "stderr",
          "output_type": "stream",
          "text": [
            "2021-09-22 04:58:15,273 - INFO - downloader - downloader-001 is waiting for new download tasks\n"
          ]
        },
        {
          "metadata": {
            "tags": null
          },
          "name": "stdout",
          "output_type": "stream",
          "text": [
            "153/153 [==============================] - 4s 29ms/step - loss: 0.4670 - accuracy: 0.7669\n",
            "Epoch 5/200\n",
            "131/153 [========================>.....] - ETA: 0s - loss: 0.4393 - accuracy: 0.7955"
          ]
        },
        {
          "metadata": {
            "tags": null
          },
          "name": "stderr",
          "output_type": "stream",
          "text": [
            "2021-09-22 04:58:20,275 - INFO - downloader - downloader-001 is waiting for new download tasks\n"
          ]
        },
        {
          "metadata": {
            "tags": null
          },
          "name": "stdout",
          "output_type": "stream",
          "text": [
            "153/153 [==============================] - 4s 29ms/step - loss: 0.4443 - accuracy: 0.7907\n",
            "Epoch 6/200\n",
            "147/153 [===========================>..] - ETA: 0s - loss: 0.4198 - accuracy: 0.7976"
          ]
        },
        {
          "metadata": {
            "tags": null
          },
          "name": "stderr",
          "output_type": "stream",
          "text": [
            "2021-09-22 04:58:25,277 - INFO - downloader - downloader-001 is waiting for new download tasks\n"
          ]
        },
        {
          "metadata": {
            "tags": null
          },
          "name": "stdout",
          "output_type": "stream",
          "text": [
            "153/153 [==============================] - 5s 30ms/step - loss: 0.4197 - accuracy: 0.7987\n",
            "Epoch 7/200\n",
            "153/153 [==============================] - 4s 29ms/step - loss: 0.3983 - accuracy: 0.8207\n",
            "Epoch 8/200\n",
            " 15/153 [=>............................] - ETA: 3s - loss: 0.3754 - accuracy: 0.8286"
          ]
        },
        {
          "metadata": {
            "tags": null
          },
          "name": "stderr",
          "output_type": "stream",
          "text": [
            "2021-09-22 04:58:30,288 - INFO - downloader - downloader-001 is waiting for new download tasks\n"
          ]
        },
        {
          "metadata": {
            "tags": null
          },
          "name": "stdout",
          "output_type": "stream",
          "text": [
            "153/153 [==============================] - 4s 29ms/step - loss: 0.3690 - accuracy: 0.8345\n",
            "Epoch 9/200\n",
            " 33/153 [=====>........................] - ETA: 3s - loss: 0.3452 - accuracy: 0.8506"
          ]
        },
        {
          "metadata": {
            "tags": null
          },
          "name": "stderr",
          "output_type": "stream",
          "text": [
            "2021-09-22 04:58:35,290 - INFO - downloader - downloader-001 is waiting for new download tasks\n"
          ]
        },
        {
          "metadata": {
            "tags": null
          },
          "name": "stdout",
          "output_type": "stream",
          "text": [
            "153/153 [==============================] - 4s 29ms/step - loss: 0.3449 - accuracy: 0.8521\n",
            "Epoch 10/200\n",
            " 51/153 [=========>....................] - ETA: 2s - loss: 0.3352 - accuracy: 0.8522"
          ]
        },
        {
          "metadata": {
            "tags": null
          },
          "name": "stderr",
          "output_type": "stream",
          "text": [
            "2021-09-22 04:58:40,292 - INFO - downloader - downloader-001 is waiting for new download tasks\n"
          ]
        },
        {
          "metadata": {
            "tags": null
          },
          "name": "stdout",
          "output_type": "stream",
          "text": [
            "153/153 [==============================] - 4s 29ms/step - loss: 0.3223 - accuracy: 0.8647\n",
            "Epoch 11/200\n",
            " 69/153 [============>.................] - ETA: 2s - loss: 0.2971 - accuracy: 0.8789"
          ]
        },
        {
          "metadata": {
            "tags": null
          },
          "name": "stderr",
          "output_type": "stream",
          "text": [
            "2021-09-22 04:58:45,294 - INFO - downloader - downloader-001 is waiting for new download tasks\n"
          ]
        },
        {
          "metadata": {
            "tags": null
          },
          "name": "stdout",
          "output_type": "stream",
          "text": [
            "153/153 [==============================] - 4s 29ms/step - loss: 0.2921 - accuracy: 0.8745\n",
            "Epoch 12/200\n",
            " 87/153 [================>.............] - ETA: 1s - loss: 0.2751 - accuracy: 0.8851"
          ]
        },
        {
          "metadata": {
            "tags": null
          },
          "name": "stderr",
          "output_type": "stream",
          "text": [
            "2021-09-22 04:58:50,297 - INFO - downloader - downloader-001 is waiting for new download tasks\n"
          ]
        },
        {
          "metadata": {
            "tags": null
          },
          "name": "stdout",
          "output_type": "stream",
          "text": [
            "153/153 [==============================] - 4s 29ms/step - loss: 0.2710 - accuracy: 0.8874\n",
            "Epoch 13/200\n",
            "107/153 [===================>..........] - ETA: 1s - loss: 0.2387 - accuracy: 0.9085"
          ]
        },
        {
          "metadata": {
            "tags": null
          },
          "name": "stderr",
          "output_type": "stream",
          "text": [
            "2021-09-22 04:58:55,306 - INFO - downloader - downloader-001 is waiting for new download tasks\n"
          ]
        },
        {
          "metadata": {
            "tags": null
          },
          "name": "stdout",
          "output_type": "stream",
          "text": [
            "153/153 [==============================] - 4s 29ms/step - loss: 0.2389 - accuracy: 0.9110\n",
            "Epoch 14/200\n",
            "125/153 [=======================>......] - ETA: 0s - loss: 0.2148 - accuracy: 0.9120"
          ]
        },
        {
          "metadata": {
            "tags": null
          },
          "name": "stderr",
          "output_type": "stream",
          "text": [
            "2021-09-22 04:59:00,308 - INFO - downloader - downloader-001 is waiting for new download tasks\n"
          ]
        },
        {
          "metadata": {
            "tags": null
          },
          "name": "stdout",
          "output_type": "stream",
          "text": [
            "153/153 [==============================] - 4s 29ms/step - loss: 0.2123 - accuracy: 0.9146\n",
            "Epoch 15/200\n",
            "147/153 [===========================>..] - ETA: 0s - loss: 0.1933 - accuracy: 0.9261"
          ]
        },
        {
          "metadata": {
            "tags": null
          },
          "name": "stderr",
          "output_type": "stream",
          "text": [
            "2021-09-22 04:59:05,317 - INFO - downloader - downloader-001 is waiting for new download tasks\n"
          ]
        },
        {
          "metadata": {
            "tags": null
          },
          "name": "stdout",
          "output_type": "stream",
          "text": [
            "153/153 [==============================] - 4s 29ms/step - loss: 0.1937 - accuracy: 0.9270\n",
            "Epoch 16/200\n",
            "153/153 [==============================] - 4s 29ms/step - loss: 0.1737 - accuracy: 0.9352\n",
            "Epoch 17/200\n",
            " 11/153 [=>............................] - ETA: 4s - loss: 0.1635 - accuracy: 0.9383"
          ]
        },
        {
          "metadata": {
            "tags": null
          },
          "name": "stderr",
          "output_type": "stream",
          "text": [
            "2021-09-22 04:59:10,318 - INFO - downloader - downloader-001 is waiting for new download tasks\n"
          ]
        },
        {
          "metadata": {
            "tags": null
          },
          "name": "stdout",
          "output_type": "stream",
          "text": [
            "153/153 [==============================] - 4s 29ms/step - loss: 0.1534 - accuracy: 0.9450\n",
            "Epoch 18/200\n",
            " 31/153 [=====>........................] - ETA: 3s - loss: 0.1244 - accuracy: 0.9539"
          ]
        },
        {
          "metadata": {
            "tags": null
          },
          "name": "stderr",
          "output_type": "stream",
          "text": [
            "2021-09-22 04:59:15,321 - INFO - downloader - downloader-001 is waiting for new download tasks\n"
          ]
        },
        {
          "metadata": {
            "tags": null
          },
          "name": "stdout",
          "output_type": "stream",
          "text": [
            "153/153 [==============================] - 4s 29ms/step - loss: 0.1348 - accuracy: 0.9537\n",
            "Epoch 19/200\n",
            " 51/153 [=========>....................] - ETA: 2s - loss: 0.1055 - accuracy: 0.9636"
          ]
        },
        {
          "metadata": {
            "tags": null
          },
          "name": "stderr",
          "output_type": "stream",
          "text": [
            "2021-09-22 04:59:20,330 - INFO - downloader - downloader-001 is waiting for new download tasks\n"
          ]
        },
        {
          "metadata": {
            "tags": null
          },
          "name": "stdout",
          "output_type": "stream",
          "text": [
            "153/153 [==============================] - 4s 29ms/step - loss: 0.1138 - accuracy: 0.9647\n",
            "Epoch 20/200\n",
            " 69/153 [============>.................] - ETA: 2s - loss: 0.1096 - accuracy: 0.9633"
          ]
        },
        {
          "metadata": {
            "tags": null
          },
          "name": "stderr",
          "output_type": "stream",
          "text": [
            "2021-09-22 04:59:25,331 - INFO - downloader - downloader-001 is waiting for new download tasks\n"
          ]
        },
        {
          "metadata": {
            "tags": null
          },
          "name": "stdout",
          "output_type": "stream",
          "text": [
            "153/153 [==============================] - 4s 29ms/step - loss: 0.1099 - accuracy: 0.9630\n",
            "Epoch 21/200\n",
            " 89/153 [================>.............] - ETA: 1s - loss: 0.0862 - accuracy: 0.9751"
          ]
        },
        {
          "metadata": {
            "tags": null
          },
          "name": "stderr",
          "output_type": "stream",
          "text": [
            "2021-09-22 04:59:30,334 - INFO - downloader - downloader-001 is waiting for new download tasks\n"
          ]
        },
        {
          "metadata": {
            "tags": null
          },
          "name": "stdout",
          "output_type": "stream",
          "text": [
            "153/153 [==============================] - 4s 29ms/step - loss: 0.0863 - accuracy: 0.9764\n",
            "Epoch 22/200\n",
            "107/153 [===================>..........] - ETA: 1s - loss: 0.0739 - accuracy: 0.9770"
          ]
        },
        {
          "metadata": {
            "tags": null
          },
          "name": "stderr",
          "output_type": "stream",
          "text": [
            "2021-09-22 04:59:35,338 - INFO - downloader - downloader-001 is waiting for new download tasks\n"
          ]
        },
        {
          "metadata": {
            "tags": null
          },
          "name": "stdout",
          "output_type": "stream",
          "text": [
            "153/153 [==============================] - 4s 29ms/step - loss: 0.0765 - accuracy: 0.9764\n",
            "Epoch 23/200\n",
            "125/153 [=======================>......] - ETA: 0s - loss: 0.0707 - accuracy: 0.9789"
          ]
        },
        {
          "metadata": {
            "tags": null
          },
          "name": "stderr",
          "output_type": "stream",
          "text": [
            "2021-09-22 04:59:40,340 - INFO - downloader - downloader-001 is waiting for new download tasks\n"
          ]
        },
        {
          "metadata": {
            "tags": null
          },
          "name": "stdout",
          "output_type": "stream",
          "text": [
            "153/153 [==============================] - 4s 29ms/step - loss: 0.0695 - accuracy: 0.9799\n",
            "Epoch 24/200\n",
            "145/153 [===========================>..] - ETA: 0s - loss: 0.0581 - accuracy: 0.9845"
          ]
        },
        {
          "metadata": {
            "tags": null
          },
          "name": "stderr",
          "output_type": "stream",
          "text": [
            "2021-09-22 04:59:45,343 - INFO - downloader - downloader-001 is waiting for new download tasks\n"
          ]
        },
        {
          "metadata": {
            "tags": null
          },
          "name": "stdout",
          "output_type": "stream",
          "text": [
            "153/153 [==============================] - 4s 29ms/step - loss: 0.0600 - accuracy: 0.9841\n",
            "Epoch 25/200\n",
            "153/153 [==============================] - 4s 29ms/step - loss: 0.0570 - accuracy: 0.9827\n",
            "Epoch 26/200\n",
            " 11/153 [=>............................] - ETA: 4s - loss: 0.0410 - accuracy: 0.9935"
          ]
        },
        {
          "metadata": {
            "tags": null
          },
          "name": "stderr",
          "output_type": "stream",
          "text": [
            "2021-09-22 04:59:50,345 - INFO - downloader - downloader-001 is waiting for new download tasks\n"
          ]
        },
        {
          "metadata": {
            "tags": null
          },
          "name": "stdout",
          "output_type": "stream",
          "text": [
            "153/153 [==============================] - 4s 29ms/step - loss: 0.0443 - accuracy: 0.9881\n",
            "Epoch 27/200\n",
            " 31/153 [=====>........................] - ETA: 3s - loss: 0.0210 - accuracy: 0.9988"
          ]
        },
        {
          "metadata": {
            "tags": null
          },
          "name": "stderr",
          "output_type": "stream",
          "text": [
            "2021-09-22 04:59:55,348 - INFO - downloader - downloader-001 is waiting for new download tasks\n"
          ]
        },
        {
          "metadata": {
            "tags": null
          },
          "name": "stdout",
          "output_type": "stream",
          "text": [
            "153/153 [==============================] - 4s 29ms/step - loss: 0.0366 - accuracy: 0.9927\n",
            "Epoch 28/200\n",
            " 49/153 [========>.....................] - ETA: 3s - loss: 0.0381 - accuracy: 0.9876"
          ]
        },
        {
          "metadata": {
            "tags": null
          },
          "name": "stderr",
          "output_type": "stream",
          "text": [
            "2021-09-22 05:00:00,350 - INFO - downloader - downloader-001 is waiting for new download tasks\n"
          ]
        },
        {
          "metadata": {
            "tags": null
          },
          "name": "stdout",
          "output_type": "stream",
          "text": [
            "153/153 [==============================] - 4s 29ms/step - loss: 0.0365 - accuracy: 0.9876\n",
            "Epoch 29/200\n",
            " 65/153 [===========>..................] - ETA: 2s - loss: 0.0324 - accuracy: 0.9912"
          ]
        },
        {
          "metadata": {
            "tags": null
          },
          "name": "stderr",
          "output_type": "stream",
          "text": [
            "2021-09-22 05:00:05,351 - INFO - downloader - downloader-001 is waiting for new download tasks\n"
          ]
        },
        {
          "metadata": {
            "tags": null
          },
          "name": "stdout",
          "output_type": "stream",
          "text": [
            "153/153 [==============================] - 5s 30ms/step - loss: 0.0293 - accuracy: 0.9923\n",
            "Epoch 30/200\n",
            " 83/153 [===============>..............] - ETA: 2s - loss: 0.0302 - accuracy: 0.9918"
          ]
        },
        {
          "metadata": {
            "tags": null
          },
          "name": "stderr",
          "output_type": "stream",
          "text": [
            "2021-09-22 05:00:10,353 - INFO - downloader - downloader-001 is waiting for new download tasks\n"
          ]
        },
        {
          "metadata": {
            "tags": null
          },
          "name": "stdout",
          "output_type": "stream",
          "text": [
            "153/153 [==============================] - 4s 29ms/step - loss: 0.0283 - accuracy: 0.9920\n",
            "Epoch 31/200\n",
            "101/153 [==================>...........] - ETA: 1s - loss: 0.0257 - accuracy: 0.9929"
          ]
        },
        {
          "metadata": {
            "tags": null
          },
          "name": "stderr",
          "output_type": "stream",
          "text": [
            "2021-09-22 05:00:15,354 - INFO - downloader - downloader-001 is waiting for new download tasks\n"
          ]
        },
        {
          "metadata": {
            "tags": null
          },
          "name": "stdout",
          "output_type": "stream",
          "text": [
            "153/153 [==============================] - 4s 29ms/step - loss: 0.0236 - accuracy: 0.9941\n",
            "Epoch 32/200\n",
            "119/153 [======================>.......] - ETA: 0s - loss: 0.0170 - accuracy: 0.9958"
          ]
        },
        {
          "metadata": {
            "tags": null
          },
          "name": "stderr",
          "output_type": "stream",
          "text": [
            "2021-09-22 05:00:20,357 - INFO - downloader - downloader-001 is waiting for new download tasks\n"
          ]
        },
        {
          "metadata": {
            "tags": null
          },
          "name": "stdout",
          "output_type": "stream",
          "text": [
            "153/153 [==============================] - 4s 29ms/step - loss: 0.0194 - accuracy: 0.9941\n",
            "Epoch 33/200\n",
            "137/153 [=========================>....] - ETA: 0s - loss: 0.0157 - accuracy: 0.9966"
          ]
        },
        {
          "metadata": {
            "tags": null
          },
          "name": "stderr",
          "output_type": "stream",
          "text": [
            "2021-09-22 05:00:25,360 - INFO - downloader - downloader-001 is waiting for new download tasks\n"
          ]
        },
        {
          "metadata": {
            "tags": null
          },
          "name": "stdout",
          "output_type": "stream",
          "text": [
            "153/153 [==============================] - 4s 29ms/step - loss: 0.0175 - accuracy: 0.9958\n",
            "Epoch 34/200\n",
            "153/153 [==============================] - 4s 29ms/step - loss: 0.0183 - accuracy: 0.9941\n",
            "Epoch 35/200\n",
            "  5/153 [..............................] - ETA: 4s - loss: 0.0410 - accuracy: 0.9929"
          ]
        },
        {
          "metadata": {
            "tags": null
          },
          "name": "stderr",
          "output_type": "stream",
          "text": [
            "2021-09-22 05:00:30,373 - INFO - downloader - downloader-001 is waiting for new download tasks\n"
          ]
        },
        {
          "metadata": {
            "tags": null
          },
          "name": "stdout",
          "output_type": "stream",
          "text": [
            "153/153 [==============================] - 4s 29ms/step - loss: 0.0150 - accuracy: 0.9967\n",
            "Epoch 36/200\n",
            " 23/153 [===>..........................] - ETA: 3s - loss: 0.0121 - accuracy: 0.9984"
          ]
        },
        {
          "metadata": {
            "tags": null
          },
          "name": "stderr",
          "output_type": "stream",
          "text": [
            "2021-09-22 05:00:35,374 - INFO - downloader - downloader-001 is waiting for new download tasks\n"
          ]
        },
        {
          "metadata": {
            "tags": null
          },
          "name": "stdout",
          "output_type": "stream",
          "text": [
            "153/153 [==============================] - 4s 29ms/step - loss: 0.0144 - accuracy: 0.9963\n",
            "Epoch 37/200\n",
            " 41/153 [=======>......................] - ETA: 3s - loss: 0.0138 - accuracy: 0.9956"
          ]
        },
        {
          "metadata": {
            "tags": null
          },
          "name": "stderr",
          "output_type": "stream",
          "text": [
            "2021-09-22 05:00:40,379 - INFO - downloader - downloader-001 is waiting for new download tasks\n"
          ]
        },
        {
          "metadata": {
            "tags": null
          },
          "name": "stdout",
          "output_type": "stream",
          "text": [
            "153/153 [==============================] - 4s 29ms/step - loss: 0.0103 - accuracy: 0.9977\n",
            "Epoch 38/200\n",
            " 59/153 [==========>...................] - ETA: 2s - loss: 0.0082 - accuracy: 0.9982"
          ]
        },
        {
          "metadata": {
            "tags": null
          },
          "name": "stderr",
          "output_type": "stream",
          "text": [
            "2021-09-22 05:00:45,387 - INFO - downloader - downloader-001 is waiting for new download tasks\n"
          ]
        },
        {
          "metadata": {
            "tags": null
          },
          "name": "stdout",
          "output_type": "stream",
          "text": [
            "153/153 [==============================] - 4s 29ms/step - loss: 0.0109 - accuracy: 0.9965\n",
            "Epoch 39/200\n",
            " 79/153 [==============>...............] - ETA: 2s - loss: 0.0068 - accuracy: 0.9982"
          ]
        },
        {
          "metadata": {
            "tags": null
          },
          "name": "stderr",
          "output_type": "stream",
          "text": [
            "2021-09-22 05:00:50,390 - INFO - downloader - downloader-001 is waiting for new download tasks\n"
          ]
        },
        {
          "metadata": {
            "tags": null
          },
          "name": "stdout",
          "output_type": "stream",
          "text": [
            "153/153 [==============================] - 4s 29ms/step - loss: 0.0086 - accuracy: 0.9979\n",
            "Epoch 40/200\n",
            " 97/153 [==================>...........] - ETA: 1s - loss: 0.0084 - accuracy: 0.9993"
          ]
        },
        {
          "metadata": {
            "tags": null
          },
          "name": "stderr",
          "output_type": "stream",
          "text": [
            "2021-09-22 05:00:55,391 - INFO - downloader - downloader-001 is waiting for new download tasks\n"
          ]
        },
        {
          "metadata": {
            "tags": null
          },
          "name": "stdout",
          "output_type": "stream",
          "text": [
            "153/153 [==============================] - 4s 29ms/step - loss: 0.0093 - accuracy: 0.9988\n",
            "Epoch 41/200\n",
            "115/153 [=====================>........] - ETA: 1s - loss: 0.0061 - accuracy: 0.9984"
          ]
        },
        {
          "metadata": {
            "tags": null
          },
          "name": "stderr",
          "output_type": "stream",
          "text": [
            "2021-09-22 05:01:00,393 - INFO - downloader - downloader-001 is waiting for new download tasks\n"
          ]
        },
        {
          "metadata": {
            "tags": null
          },
          "name": "stdout",
          "output_type": "stream",
          "text": [
            "153/153 [==============================] - 4s 29ms/step - loss: 0.0065 - accuracy: 0.9984\n",
            "Epoch 42/200\n",
            "133/153 [=========================>....] - ETA: 0s - loss: 0.0064 - accuracy: 0.9984"
          ]
        },
        {
          "metadata": {
            "tags": null
          },
          "name": "stderr",
          "output_type": "stream",
          "text": [
            "2021-09-22 05:01:05,395 - INFO - downloader - downloader-001 is waiting for new download tasks\n"
          ]
        },
        {
          "metadata": {
            "tags": null
          },
          "name": "stdout",
          "output_type": "stream",
          "text": [
            "153/153 [==============================] - 4s 29ms/step - loss: 0.0058 - accuracy: 0.9986\n",
            "Epoch 43/200\n",
            "153/153 [==============================] - 4s 29ms/step - loss: 0.0068 - accuracy: 0.9981\n"
          ]
        },
        {
          "metadata": {
            "tags": null
          },
          "name": "stderr",
          "output_type": "stream",
          "text": [
            "2021-09-22 05:01:10,397 - INFO - downloader - downloader-001 is waiting for new download tasks\n"
          ]
        },
        {
          "metadata": {
            "tags": null
          },
          "name": "stdout",
          "output_type": "stream",
          "text": [
            "Epoch 44/200\n",
            "153/153 [==============================] - 4s 29ms/step - loss: 0.0060 - accuracy: 0.9988\n",
            "Epoch 45/200\n",
            " 17/153 [==>...........................] - ETA: 3s - loss: 0.0022 - accuracy: 1.0000"
          ]
        },
        {
          "metadata": {
            "tags": null
          },
          "name": "stderr",
          "output_type": "stream",
          "text": [
            "2021-09-22 05:01:15,399 - INFO - downloader - downloader-001 is waiting for new download tasks\n"
          ]
        },
        {
          "metadata": {
            "tags": null
          },
          "name": "stdout",
          "output_type": "stream",
          "text": [
            "153/153 [==============================] - 4s 29ms/step - loss: 0.0054 - accuracy: 0.9986\n",
            "Epoch 46/200\n",
            " 35/153 [=====>........................] - ETA: 3s - loss: 0.0039 - accuracy: 0.9990"
          ]
        },
        {
          "metadata": {
            "tags": null
          },
          "name": "stderr",
          "output_type": "stream",
          "text": [
            "2021-09-22 05:01:20,402 - INFO - downloader - downloader-001 is waiting for new download tasks\n"
          ]
        },
        {
          "metadata": {
            "tags": null
          },
          "name": "stdout",
          "output_type": "stream",
          "text": [
            "153/153 [==============================] - 4s 29ms/step - loss: 0.0036 - accuracy: 0.9991\n",
            "Epoch 47/200\n",
            " 55/153 [=========>....................] - ETA: 2s - loss: 0.0074 - accuracy: 0.9974"
          ]
        },
        {
          "metadata": {
            "tags": null
          },
          "name": "stderr",
          "output_type": "stream",
          "text": [
            "2021-09-22 05:01:25,407 - INFO - downloader - downloader-001 is waiting for new download tasks\n"
          ]
        },
        {
          "metadata": {
            "tags": null
          },
          "name": "stdout",
          "output_type": "stream",
          "text": [
            "153/153 [==============================] - 4s 29ms/step - loss: 0.0050 - accuracy: 0.9986\n",
            "Epoch 48/200\n",
            " 77/153 [==============>...............] - ETA: 2s - loss: 0.0051 - accuracy: 0.9986"
          ]
        },
        {
          "metadata": {
            "tags": null
          },
          "name": "stderr",
          "output_type": "stream",
          "text": [
            "2021-09-22 05:01:30,408 - INFO - downloader - downloader-001 is waiting for new download tasks\n"
          ]
        },
        {
          "metadata": {
            "tags": null
          },
          "name": "stdout",
          "output_type": "stream",
          "text": [
            "153/153 [==============================] - 4s 29ms/step - loss: 0.0055 - accuracy: 0.9986\n",
            "Epoch 49/200\n",
            " 95/153 [=================>............] - ETA: 1s - loss: 0.0025 - accuracy: 0.9992"
          ]
        },
        {
          "metadata": {
            "tags": null
          },
          "name": "stderr",
          "output_type": "stream",
          "text": [
            "2021-09-22 05:01:35,410 - INFO - downloader - downloader-001 is waiting for new download tasks\n"
          ]
        },
        {
          "metadata": {
            "tags": null
          },
          "name": "stdout",
          "output_type": "stream",
          "text": [
            "153/153 [==============================] - 4s 29ms/step - loss: 0.0032 - accuracy: 0.9991\n",
            "Epoch 50/200\n",
            "115/153 [=====================>........] - ETA: 1s - loss: 0.0050 - accuracy: 0.9984"
          ]
        },
        {
          "metadata": {
            "tags": null
          },
          "name": "stderr",
          "output_type": "stream",
          "text": [
            "2021-09-22 05:01:40,413 - INFO - downloader - downloader-001 is waiting for new download tasks\n"
          ]
        },
        {
          "metadata": {
            "tags": null
          },
          "name": "stdout",
          "output_type": "stream",
          "text": [
            "153/153 [==============================] - 4s 29ms/step - loss: 0.0047 - accuracy: 0.9986\n",
            "Epoch 51/200\n",
            "133/153 [=========================>....] - ETA: 0s - loss: 0.0046 - accuracy: 0.9987"
          ]
        },
        {
          "metadata": {
            "tags": null
          },
          "name": "stderr",
          "output_type": "stream",
          "text": [
            "2021-09-22 05:01:45,415 - INFO - downloader - downloader-001 is waiting for new download tasks\n"
          ]
        },
        {
          "metadata": {
            "tags": null
          },
          "name": "stdout",
          "output_type": "stream",
          "text": [
            "153/153 [==============================] - 4s 29ms/step - loss: 0.0041 - accuracy: 0.9988\n",
            "Epoch 52/200\n",
            "151/153 [============================>.] - ETA: 0s - loss: 0.0022 - accuracy: 0.9995"
          ]
        },
        {
          "metadata": {
            "tags": null
          },
          "name": "stderr",
          "output_type": "stream",
          "text": [
            "2021-09-22 05:01:50,420 - INFO - downloader - downloader-001 is waiting for new download tasks\n"
          ]
        },
        {
          "metadata": {
            "tags": null
          },
          "name": "stdout",
          "output_type": "stream",
          "text": [
            "153/153 [==============================] - 4s 29ms/step - loss: 0.0022 - accuracy: 0.9995\n",
            "Epoch 53/200\n",
            "153/153 [==============================] - 4s 29ms/step - loss: 0.0025 - accuracy: 0.9993\n",
            "Epoch 54/200\n",
            " 19/153 [==>...........................] - ETA: 3s - loss: 7.7936e-04 - accuracy: 1.0000"
          ]
        },
        {
          "metadata": {
            "tags": null
          },
          "name": "stderr",
          "output_type": "stream",
          "text": [
            "2021-09-22 05:01:55,422 - INFO - downloader - downloader-001 is waiting for new download tasks\n"
          ]
        },
        {
          "metadata": {
            "tags": null
          },
          "name": "stdout",
          "output_type": "stream",
          "text": [
            "153/153 [==============================] - 4s 29ms/step - loss: 0.0022 - accuracy: 0.9991\n",
            "Epoch 55/200\n",
            " 37/153 [======>.......................] - ETA: 3s - loss: 0.0022 - accuracy: 0.9990"
          ]
        },
        {
          "metadata": {
            "tags": null
          },
          "name": "stderr",
          "output_type": "stream",
          "text": [
            "2021-09-22 05:02:00,423 - INFO - downloader - downloader-001 is waiting for new download tasks\n"
          ]
        },
        {
          "metadata": {
            "tags": null
          },
          "name": "stdout",
          "output_type": "stream",
          "text": [
            "153/153 [==============================] - 4s 29ms/step - loss: 0.0044 - accuracy: 0.9986\n",
            "Epoch 56/200\n",
            " 55/153 [=========>....................] - ETA: 2s - loss: 0.0029 - accuracy: 0.9981"
          ]
        },
        {
          "metadata": {
            "tags": null
          },
          "name": "stderr",
          "output_type": "stream",
          "text": [
            "2021-09-22 05:02:05,425 - INFO - downloader - downloader-001 is waiting for new download tasks\n"
          ]
        },
        {
          "metadata": {
            "tags": null
          },
          "name": "stdout",
          "output_type": "stream",
          "text": [
            "153/153 [==============================] - 4s 29ms/step - loss: 0.0028 - accuracy: 0.9986\n",
            "Epoch 57/200\n",
            " 73/153 [=============>................] - ETA: 2s - loss: 0.0027 - accuracy: 0.9990"
          ]
        },
        {
          "metadata": {
            "tags": null
          },
          "name": "stderr",
          "output_type": "stream",
          "text": [
            "2021-09-22 05:02:10,430 - INFO - downloader - downloader-001 is waiting for new download tasks\n"
          ]
        },
        {
          "metadata": {
            "tags": null
          },
          "name": "stdout",
          "output_type": "stream",
          "text": [
            "153/153 [==============================] - 4s 29ms/step - loss: 0.0033 - accuracy: 0.9988\n",
            "Epoch 58/200\n",
            " 91/153 [================>.............] - ETA: 1s - loss: 0.0018 - accuracy: 0.9996"
          ]
        },
        {
          "metadata": {
            "tags": null
          },
          "name": "stderr",
          "output_type": "stream",
          "text": [
            "2021-09-22 05:02:15,436 - INFO - downloader - downloader-001 is waiting for new download tasks\n"
          ]
        },
        {
          "metadata": {
            "tags": null
          },
          "name": "stdout",
          "output_type": "stream",
          "text": [
            "153/153 [==============================] - 4s 29ms/step - loss: 0.0017 - accuracy: 0.9993\n",
            "Epoch 59/200\n",
            "111/153 [====================>.........] - ETA: 1s - loss: 0.0016 - accuracy: 1.0000"
          ]
        },
        {
          "metadata": {
            "tags": null
          },
          "name": "stderr",
          "output_type": "stream",
          "text": [
            "2021-09-22 05:02:20,437 - INFO - downloader - downloader-001 is waiting for new download tasks\n"
          ]
        },
        {
          "metadata": {
            "tags": null
          },
          "name": "stdout",
          "output_type": "stream",
          "text": [
            "153/153 [==============================] - 4s 29ms/step - loss: 0.0027 - accuracy: 0.9991\n",
            "Epoch 60/200\n",
            "129/153 [========================>.....] - ETA: 0s - loss: 0.0017 - accuracy: 0.9994"
          ]
        },
        {
          "metadata": {
            "tags": null
          },
          "name": "stderr",
          "output_type": "stream",
          "text": [
            "2021-09-22 05:02:25,442 - INFO - downloader - downloader-001 is waiting for new download tasks\n"
          ]
        },
        {
          "metadata": {
            "tags": null
          },
          "name": "stdout",
          "output_type": "stream",
          "text": [
            "153/153 [==============================] - 4s 29ms/step - loss: 0.0025 - accuracy: 0.9993\n",
            "Epoch 61/200\n",
            "147/153 [===========================>..] - ETA: 0s - loss: 0.0012 - accuracy: 0.9995    "
          ]
        },
        {
          "metadata": {
            "tags": null
          },
          "name": "stderr",
          "output_type": "stream",
          "text": [
            "2021-09-22 05:02:30,445 - INFO - downloader - downloader-001 is waiting for new download tasks\n"
          ]
        },
        {
          "metadata": {
            "tags": null
          },
          "name": "stdout",
          "output_type": "stream",
          "text": [
            "153/153 [==============================] - 4s 29ms/step - loss: 0.0012 - accuracy: 0.9995\n",
            "Epoch 62/200\n",
            "153/153 [==============================] - 4s 29ms/step - loss: 0.0013 - accuracy: 1.0000\n",
            "Epoch 63/200\n",
            " 13/153 [=>............................] - ETA: 4s - loss: 0.0023 - accuracy: 1.0000"
          ]
        },
        {
          "metadata": {
            "tags": null
          },
          "name": "stderr",
          "output_type": "stream",
          "text": [
            "2021-09-22 05:02:35,447 - INFO - downloader - downloader-001 is waiting for new download tasks\n"
          ]
        },
        {
          "metadata": {
            "tags": null
          },
          "name": "stdout",
          "output_type": "stream",
          "text": [
            "153/153 [==============================] - 4s 29ms/step - loss: 0.0031 - accuracy: 0.9993\n",
            "Epoch 64/200\n",
            " 29/153 [====>.........................] - ETA: 3s - loss: 3.9279e-04 - accuracy: 1.0000"
          ]
        },
        {
          "metadata": {
            "tags": null
          },
          "name": "stderr",
          "output_type": "stream",
          "text": [
            "2021-09-22 05:02:40,449 - INFO - downloader - downloader-001 is waiting for new download tasks\n"
          ]
        },
        {
          "metadata": {
            "tags": null
          },
          "name": "stdout",
          "output_type": "stream",
          "text": [
            "153/153 [==============================] - 4s 29ms/step - loss: 0.0010 - accuracy: 1.0000\n",
            "Epoch 65/200\n",
            " 49/153 [========>.....................] - ETA: 2s - loss: 0.0019 - accuracy: 0.9993"
          ]
        },
        {
          "metadata": {
            "tags": null
          },
          "name": "stderr",
          "output_type": "stream",
          "text": [
            "2021-09-22 05:02:45,467 - INFO - downloader - downloader-001 is waiting for new download tasks\n"
          ]
        },
        {
          "metadata": {
            "tags": null
          },
          "name": "stdout",
          "output_type": "stream",
          "text": [
            "153/153 [==============================] - 4s 29ms/step - loss: 0.0020 - accuracy: 0.9993\n",
            "Epoch 66/200\n",
            " 69/153 [============>.................] - ETA: 2s - loss: 0.0026 - accuracy: 0.9990"
          ]
        },
        {
          "metadata": {
            "tags": null
          },
          "name": "stderr",
          "output_type": "stream",
          "text": [
            "2021-09-22 05:02:50,469 - INFO - downloader - downloader-001 is waiting for new download tasks\n"
          ]
        },
        {
          "metadata": {
            "tags": null
          },
          "name": "stdout",
          "output_type": "stream",
          "text": [
            "153/153 [==============================] - 4s 29ms/step - loss: 0.0019 - accuracy: 0.9995\n",
            "Epoch 67/200\n",
            " 85/153 [===============>..............] - ETA: 1s - loss: 8.6831e-04 - accuracy: 0.9996"
          ]
        },
        {
          "metadata": {
            "tags": null
          },
          "name": "stderr",
          "output_type": "stream",
          "text": [
            "2021-09-22 05:02:55,473 - INFO - downloader - downloader-001 is waiting for new download tasks\n"
          ]
        },
        {
          "metadata": {
            "tags": null
          },
          "name": "stdout",
          "output_type": "stream",
          "text": [
            "153/153 [==============================] - 4s 29ms/step - loss: 8.5974e-04 - accuracy: 0.9998\n",
            "Epoch 68/200\n",
            "103/153 [===================>..........] - ETA: 1s - loss: 7.0845e-04 - accuracy: 1.0000"
          ]
        },
        {
          "metadata": {
            "tags": null
          },
          "name": "stderr",
          "output_type": "stream",
          "text": [
            "2021-09-22 05:03:00,475 - INFO - downloader - downloader-001 is waiting for new download tasks\n"
          ]
        },
        {
          "metadata": {
            "tags": null
          },
          "name": "stdout",
          "output_type": "stream",
          "text": [
            "153/153 [==============================] - 4s 29ms/step - loss: 0.0022 - accuracy: 0.9995\n",
            "Epoch 69/200\n",
            "121/153 [======================>.......] - ETA: 0s - loss: 8.3839e-04 - accuracy: 1.0000"
          ]
        },
        {
          "metadata": {
            "tags": null
          },
          "name": "stderr",
          "output_type": "stream",
          "text": [
            "2021-09-22 05:03:05,484 - INFO - downloader - downloader-001 is waiting for new download tasks\n"
          ]
        },
        {
          "metadata": {
            "tags": null
          },
          "name": "stdout",
          "output_type": "stream",
          "text": [
            "153/153 [==============================] - 4s 29ms/step - loss: 0.0014 - accuracy: 0.9995\n",
            "Epoch 70/200\n",
            "139/153 [==========================>...] - ETA: 0s - loss: 0.0016 - accuracy: 0.9995"
          ]
        },
        {
          "metadata": {
            "tags": null
          },
          "name": "stderr",
          "output_type": "stream",
          "text": [
            "2021-09-22 05:03:10,492 - INFO - downloader - downloader-001 is waiting for new download tasks\n"
          ]
        },
        {
          "metadata": {
            "tags": null
          },
          "name": "stdout",
          "output_type": "stream",
          "text": [
            "153/153 [==============================] - 4s 29ms/step - loss: 0.0015 - accuracy: 0.9995\n",
            "Epoch 71/200\n",
            "153/153 [==============================] - 4s 29ms/step - loss: 9.5426e-04 - accuracy: 1.0000\n",
            "Epoch 72/200\n",
            "  5/153 [..............................] - ETA: 4s - loss: 1.4343e-04 - accuracy: 1.0000"
          ]
        },
        {
          "metadata": {
            "tags": null
          },
          "name": "stderr",
          "output_type": "stream",
          "text": [
            "2021-09-22 05:03:15,494 - INFO - downloader - downloader-001 is waiting for new download tasks\n"
          ]
        },
        {
          "metadata": {
            "tags": null
          },
          "name": "stdout",
          "output_type": "stream",
          "text": [
            "153/153 [==============================] - 4s 29ms/step - loss: 0.0021 - accuracy: 0.9993\n",
            "Epoch 73/200\n",
            " 23/153 [===>..........................] - ETA: 3s - loss: 2.4560e-04 - accuracy: 1.0000"
          ]
        },
        {
          "metadata": {
            "tags": null
          },
          "name": "stderr",
          "output_type": "stream",
          "text": [
            "2021-09-22 05:03:20,495 - INFO - downloader - downloader-001 is waiting for new download tasks\n"
          ]
        },
        {
          "metadata": {
            "tags": null
          },
          "name": "stdout",
          "output_type": "stream",
          "text": [
            "153/153 [==============================] - 4s 29ms/step - loss: 2.2076e-04 - accuracy: 1.0000\n",
            "Epoch 74/200\n",
            " 41/153 [=======>......................] - ETA: 3s - loss: 0.0036 - accuracy: 0.9991"
          ]
        },
        {
          "metadata": {
            "tags": null
          },
          "name": "stderr",
          "output_type": "stream",
          "text": [
            "2021-09-22 05:03:25,499 - INFO - downloader - downloader-001 is waiting for new download tasks\n"
          ]
        },
        {
          "metadata": {
            "tags": null
          },
          "name": "stdout",
          "output_type": "stream",
          "text": [
            "153/153 [==============================] - 4s 29ms/step - loss: 0.0021 - accuracy: 0.9993\n",
            "Epoch 75/200\n",
            " 61/153 [==========>...................] - ETA: 2s - loss: 8.5492e-04 - accuracy: 1.0000"
          ]
        },
        {
          "metadata": {
            "tags": null
          },
          "name": "stderr",
          "output_type": "stream",
          "text": [
            "2021-09-22 05:03:30,500 - INFO - downloader - downloader-001 is waiting for new download tasks\n"
          ]
        },
        {
          "metadata": {
            "tags": null
          },
          "name": "stdout",
          "output_type": "stream",
          "text": [
            "153/153 [==============================] - 4s 29ms/step - loss: 0.0016 - accuracy: 0.9993\n",
            "Epoch 76/200\n",
            " 79/153 [==============>...............] - ETA: 2s - loss: 5.1482e-04 - accuracy: 1.0000"
          ]
        },
        {
          "metadata": {
            "tags": null
          },
          "name": "stderr",
          "output_type": "stream",
          "text": [
            "2021-09-22 05:03:35,502 - INFO - downloader - downloader-001 is waiting for new download tasks\n"
          ]
        },
        {
          "metadata": {
            "tags": null
          },
          "name": "stdout",
          "output_type": "stream",
          "text": [
            "153/153 [==============================] - 4s 29ms/step - loss: 4.5347e-04 - accuracy: 1.0000\n",
            "Epoch 77/200\n",
            " 97/153 [==================>...........] - ETA: 1s - loss: 0.0011 - accuracy: 0.9996"
          ]
        },
        {
          "metadata": {
            "tags": null
          },
          "name": "stderr",
          "output_type": "stream",
          "text": [
            "2021-09-22 05:03:40,506 - INFO - downloader - downloader-001 is waiting for new download tasks\n"
          ]
        },
        {
          "metadata": {
            "tags": null
          },
          "name": "stdout",
          "output_type": "stream",
          "text": [
            "153/153 [==============================] - 4s 29ms/step - loss: 0.0011 - accuracy: 0.9995\n",
            "Epoch 78/200\n",
            "113/153 [=====================>........] - ETA: 1s - loss: 0.0010 - accuracy: 0.9994"
          ]
        },
        {
          "metadata": {
            "tags": null
          },
          "name": "stderr",
          "output_type": "stream",
          "text": [
            "2021-09-22 05:03:45,508 - INFO - downloader - downloader-001 is waiting for new download tasks\n"
          ]
        },
        {
          "metadata": {
            "tags": null
          },
          "name": "stdout",
          "output_type": "stream",
          "text": [
            "153/153 [==============================] - 5s 30ms/step - loss: 8.1335e-04 - accuracy: 0.9995\n",
            "Epoch 79/200\n",
            "131/153 [========================>.....] - ETA: 0s - loss: 0.0012 - accuracy: 0.9995    "
          ]
        },
        {
          "metadata": {
            "tags": null
          },
          "name": "stderr",
          "output_type": "stream",
          "text": [
            "2021-09-22 05:03:50,510 - INFO - downloader - downloader-001 is waiting for new download tasks\n"
          ]
        },
        {
          "metadata": {
            "tags": null
          },
          "name": "stdout",
          "output_type": "stream",
          "text": [
            "153/153 [==============================] - 4s 29ms/step - loss: 0.0012 - accuracy: 0.9995\n",
            "Epoch 80/200\n",
            "151/153 [============================>.] - ETA: 0s - loss: 4.4575e-04 - accuracy: 1.0000"
          ]
        },
        {
          "metadata": {
            "tags": null
          },
          "name": "stderr",
          "output_type": "stream",
          "text": [
            "2021-09-22 05:03:55,519 - INFO - downloader - downloader-001 is waiting for new download tasks\n"
          ]
        },
        {
          "metadata": {
            "tags": null
          },
          "name": "stdout",
          "output_type": "stream",
          "text": [
            "153/153 [==============================] - 4s 29ms/step - loss: 4.4130e-04 - accuracy: 1.0000\n",
            "Epoch 81/200\n",
            "153/153 [==============================] - 4s 29ms/step - loss: 8.6418e-04 - accuracy: 0.9995\n",
            "Epoch 82/200\n",
            " 17/153 [==>...........................] - ETA: 4s - loss: 4.6353e-05 - accuracy: 1.0000"
          ]
        },
        {
          "metadata": {
            "tags": null
          },
          "name": "stderr",
          "output_type": "stream",
          "text": [
            "2021-09-22 05:04:00,521 - INFO - downloader - downloader-001 is waiting for new download tasks\n"
          ]
        },
        {
          "metadata": {
            "tags": null
          },
          "name": "stdout",
          "output_type": "stream",
          "text": [
            "153/153 [==============================] - 4s 29ms/step - loss: 3.0827e-04 - accuracy: 1.0000\n",
            "Epoch 83/200\n",
            " 35/153 [=====>........................] - ETA: 3s - loss: 1.0888e-04 - accuracy: 1.0000"
          ]
        },
        {
          "metadata": {
            "tags": null
          },
          "name": "stderr",
          "output_type": "stream",
          "text": [
            "2021-09-22 05:04:05,523 - INFO - downloader - downloader-001 is waiting for new download tasks\n"
          ]
        },
        {
          "metadata": {
            "tags": null
          },
          "name": "stdout",
          "output_type": "stream",
          "text": [
            "153/153 [==============================] - 4s 29ms/step - loss: 3.8481e-04 - accuracy: 1.0000\n",
            "Epoch 84/200\n",
            " 53/153 [=========>....................] - ETA: 2s - loss: 6.2935e-04 - accuracy: 1.0000"
          ]
        },
        {
          "metadata": {
            "tags": null
          },
          "name": "stderr",
          "output_type": "stream",
          "text": [
            "2021-09-22 05:04:10,532 - INFO - downloader - downloader-001 is waiting for new download tasks\n"
          ]
        },
        {
          "metadata": {
            "tags": null
          },
          "name": "stdout",
          "output_type": "stream",
          "text": [
            "153/153 [==============================] - 4s 29ms/step - loss: 6.0857e-04 - accuracy: 0.9998\n",
            "Epoch 85/200\n",
            " 73/153 [=============>................] - ETA: 2s - loss: 0.0016 - accuracy: 0.9995"
          ]
        },
        {
          "metadata": {
            "tags": null
          },
          "name": "stderr",
          "output_type": "stream",
          "text": [
            "2021-09-22 05:04:15,535 - INFO - downloader - downloader-001 is waiting for new download tasks\n"
          ]
        },
        {
          "metadata": {
            "tags": null
          },
          "name": "stdout",
          "output_type": "stream",
          "text": [
            "153/153 [==============================] - 4s 29ms/step - loss: 0.0010 - accuracy: 0.9998\n",
            "Epoch 86/200\n",
            " 93/153 [=================>............] - ETA: 1s - loss: 6.3103e-04 - accuracy: 0.9996"
          ]
        },
        {
          "metadata": {
            "tags": null
          },
          "name": "stderr",
          "output_type": "stream",
          "text": [
            "2021-09-22 05:04:20,537 - INFO - downloader - downloader-001 is waiting for new download tasks\n"
          ]
        },
        {
          "metadata": {
            "tags": null
          },
          "name": "stdout",
          "output_type": "stream",
          "text": [
            "153/153 [==============================] - 4s 29ms/step - loss: 4.7788e-04 - accuracy: 0.9998\n",
            "Epoch 87/200\n",
            "113/153 [=====================>........] - ETA: 1s - loss: 0.0016 - accuracy: 0.9997"
          ]
        },
        {
          "metadata": {
            "tags": null
          },
          "name": "stderr",
          "output_type": "stream",
          "text": [
            "2021-09-22 05:04:25,541 - INFO - downloader - downloader-001 is waiting for new download tasks\n"
          ]
        },
        {
          "metadata": {
            "tags": null
          },
          "name": "stdout",
          "output_type": "stream",
          "text": [
            "153/153 [==============================] - 4s 29ms/step - loss: 0.0012 - accuracy: 0.9998\n",
            "Epoch 88/200\n",
            "129/153 [========================>.....] - ETA: 0s - loss: 1.4514e-04 - accuracy: 1.0000"
          ]
        },
        {
          "metadata": {
            "tags": null
          },
          "name": "stderr",
          "output_type": "stream",
          "text": [
            "2021-09-22 05:04:30,550 - INFO - downloader - downloader-001 is waiting for new download tasks\n"
          ]
        },
        {
          "metadata": {
            "tags": null
          },
          "name": "stdout",
          "output_type": "stream",
          "text": [
            "153/153 [==============================] - 5s 29ms/step - loss: 1.2975e-04 - accuracy: 1.0000\n",
            "Epoch 89/200\n",
            "147/153 [===========================>..] - ETA: 0s - loss: 9.0390e-04 - accuracy: 0.9998"
          ]
        },
        {
          "metadata": {
            "tags": null
          },
          "name": "stderr",
          "output_type": "stream",
          "text": [
            "2021-09-22 05:04:35,553 - INFO - downloader - downloader-001 is waiting for new download tasks\n"
          ]
        },
        {
          "metadata": {
            "tags": null
          },
          "name": "stdout",
          "output_type": "stream",
          "text": [
            "153/153 [==============================] - 4s 29ms/step - loss: 9.0652e-04 - accuracy: 0.9998\n",
            "Epoch 90/200\n",
            "153/153 [==============================] - 4s 29ms/step - loss: 3.9678e-04 - accuracy: 1.0000\n",
            "Epoch 91/200\n",
            " 13/153 [=>............................] - ETA: 4s - loss: 1.6240e-04 - accuracy: 1.0000"
          ]
        },
        {
          "metadata": {
            "tags": null
          },
          "name": "stderr",
          "output_type": "stream",
          "text": [
            "2021-09-22 05:04:40,555 - INFO - downloader - downloader-001 is waiting for new download tasks\n"
          ]
        },
        {
          "metadata": {
            "tags": null
          },
          "name": "stdout",
          "output_type": "stream",
          "text": [
            "153/153 [==============================] - 4s 29ms/step - loss: 8.6624e-04 - accuracy: 0.9998\n",
            "Epoch 92/200\n",
            " 31/153 [=====>........................] - ETA: 3s - loss: 0.0075 - accuracy: 0.9977"
          ]
        },
        {
          "metadata": {
            "tags": null
          },
          "name": "stderr",
          "output_type": "stream",
          "text": [
            "2021-09-22 05:04:45,558 - INFO - downloader - downloader-001 is waiting for new download tasks\n"
          ]
        },
        {
          "metadata": {
            "tags": null
          },
          "name": "stdout",
          "output_type": "stream",
          "text": [
            "153/153 [==============================] - 4s 29ms/step - loss: 0.0020 - accuracy: 0.9993\n",
            "Epoch 93/200\n",
            " 49/153 [========>.....................] - ETA: 3s - loss: 2.5546e-04 - accuracy: 1.0000"
          ]
        },
        {
          "metadata": {
            "tags": null
          },
          "name": "stderr",
          "output_type": "stream",
          "text": [
            "2021-09-22 05:04:50,562 - INFO - downloader - downloader-001 is waiting for new download tasks\n"
          ]
        },
        {
          "metadata": {
            "tags": null
          },
          "name": "stdout",
          "output_type": "stream",
          "text": [
            "153/153 [==============================] - 4s 29ms/step - loss: 4.4909e-04 - accuracy: 0.9998\n",
            "Epoch 94/200\n",
            " 69/153 [============>.................] - ETA: 2s - loss: 2.1772e-05 - accuracy: 1.0000"
          ]
        },
        {
          "metadata": {
            "tags": null
          },
          "name": "stderr",
          "output_type": "stream",
          "text": [
            "2021-09-22 05:04:55,569 - INFO - downloader - downloader-001 is waiting for new download tasks\n"
          ]
        },
        {
          "metadata": {
            "tags": null
          },
          "name": "stdout",
          "output_type": "stream",
          "text": [
            "153/153 [==============================] - 4s 29ms/step - loss: 1.6115e-04 - accuracy: 1.0000\n",
            "Epoch 95/200\n",
            " 87/153 [================>.............] - ETA: 1s - loss: 3.7695e-05 - accuracy: 1.0000"
          ]
        },
        {
          "metadata": {
            "tags": null
          },
          "name": "stderr",
          "output_type": "stream",
          "text": [
            "2021-09-22 05:05:00,570 - INFO - downloader - downloader-001 is waiting for new download tasks\n"
          ]
        },
        {
          "metadata": {
            "tags": null
          },
          "name": "stdout",
          "output_type": "stream",
          "text": [
            "153/153 [==============================] - 4s 29ms/step - loss: 7.9675e-05 - accuracy: 1.0000\n",
            "Epoch 96/200\n",
            "107/153 [===================>..........] - ETA: 1s - loss: 6.8502e-04 - accuracy: 0.9997"
          ]
        },
        {
          "metadata": {
            "tags": null
          },
          "name": "stderr",
          "output_type": "stream",
          "text": [
            "2021-09-22 05:05:05,580 - INFO - downloader - downloader-001 is waiting for new download tasks\n"
          ]
        },
        {
          "metadata": {
            "tags": null
          },
          "name": "stdout",
          "output_type": "stream",
          "text": [
            "153/153 [==============================] - 4s 29ms/step - loss: 4.9115e-04 - accuracy: 0.9998\n",
            "Epoch 97/200\n",
            "125/153 [=======================>......] - ETA: 0s - loss: 2.5966e-04 - accuracy: 1.0000"
          ]
        },
        {
          "metadata": {
            "tags": null
          },
          "name": "stderr",
          "output_type": "stream",
          "text": [
            "2021-09-22 05:05:10,581 - INFO - downloader - downloader-001 is waiting for new download tasks\n"
          ]
        },
        {
          "metadata": {
            "tags": null
          },
          "name": "stdout",
          "output_type": "stream",
          "text": [
            "153/153 [==============================] - 4s 29ms/step - loss: 3.8561e-04 - accuracy: 1.0000\n",
            "Epoch 98/200\n",
            "145/153 [===========================>..] - ETA: 0s - loss: 0.0012 - accuracy: 0.9998"
          ]
        },
        {
          "metadata": {
            "tags": null
          },
          "name": "stderr",
          "output_type": "stream",
          "text": [
            "2021-09-22 05:05:15,591 - INFO - downloader - downloader-001 is waiting for new download tasks\n"
          ]
        },
        {
          "metadata": {
            "tags": null
          },
          "name": "stdout",
          "output_type": "stream",
          "text": [
            "153/153 [==============================] - 4s 29ms/step - loss: 0.0011 - accuracy: 0.9998\n",
            "Epoch 99/200\n",
            "153/153 [==============================] - 4s 29ms/step - loss: 8.1903e-04 - accuracy: 0.9998\n",
            "Epoch 100/200\n",
            " 11/153 [=>............................] - ETA: 4s - loss: 9.8376e-05 - accuracy: 1.0000"
          ]
        },
        {
          "metadata": {
            "tags": null
          },
          "name": "stderr",
          "output_type": "stream",
          "text": [
            "2021-09-22 05:05:20,593 - INFO - downloader - downloader-001 is waiting for new download tasks\n"
          ]
        },
        {
          "metadata": {
            "tags": null
          },
          "name": "stdout",
          "output_type": "stream",
          "text": [
            "153/153 [==============================] - 4s 29ms/step - loss: 6.8160e-04 - accuracy: 0.9998\n",
            "Epoch 101/200\n",
            " 29/153 [====>.........................] - ETA: 3s - loss: 1.0780e-05 - accuracy: 1.0000"
          ]
        },
        {
          "metadata": {
            "tags": null
          },
          "name": "stderr",
          "output_type": "stream",
          "text": [
            "2021-09-22 05:05:25,594 - INFO - downloader - downloader-001 is waiting for new download tasks\n"
          ]
        },
        {
          "metadata": {
            "tags": null
          },
          "name": "stdout",
          "output_type": "stream",
          "text": [
            "153/153 [==============================] - 4s 29ms/step - loss: 2.6370e-04 - accuracy: 1.0000\n",
            "Epoch 102/200\n",
            " 49/153 [========>.....................] - ETA: 2s - loss: 2.8728e-04 - accuracy: 1.0000"
          ]
        },
        {
          "metadata": {
            "tags": null
          },
          "name": "stderr",
          "output_type": "stream",
          "text": [
            "2021-09-22 05:05:30,597 - INFO - downloader - downloader-001 is waiting for new download tasks\n"
          ]
        },
        {
          "metadata": {
            "tags": null
          },
          "name": "stdout",
          "output_type": "stream",
          "text": [
            "153/153 [==============================] - 4s 29ms/step - loss: 2.8714e-04 - accuracy: 1.0000\n",
            "Epoch 103/200\n",
            " 69/153 [============>.................] - ETA: 2s - loss: 0.0020 - accuracy: 0.9995"
          ]
        },
        {
          "metadata": {
            "tags": null
          },
          "name": "stderr",
          "output_type": "stream",
          "text": [
            "2021-09-22 05:05:35,598 - INFO - downloader - downloader-001 is waiting for new download tasks\n"
          ]
        },
        {
          "metadata": {
            "tags": null
          },
          "name": "stdout",
          "output_type": "stream",
          "text": [
            "153/153 [==============================] - 4s 29ms/step - loss: 9.2811e-04 - accuracy: 0.9998\n",
            "Epoch 104/200\n",
            " 87/153 [================>.............] - ETA: 1s - loss: 4.1299e-04 - accuracy: 1.0000"
          ]
        },
        {
          "metadata": {
            "tags": null
          },
          "name": "stderr",
          "output_type": "stream",
          "text": [
            "2021-09-22 05:05:40,600 - INFO - downloader - downloader-001 is waiting for new download tasks\n"
          ]
        },
        {
          "metadata": {
            "tags": null
          },
          "name": "stdout",
          "output_type": "stream",
          "text": [
            "153/153 [==============================] - 4s 29ms/step - loss: 3.1037e-04 - accuracy: 1.0000\n",
            "Epoch 105/200\n",
            "105/153 [===================>..........] - ETA: 1s - loss: 7.4013e-05 - accuracy: 1.0000"
          ]
        },
        {
          "metadata": {
            "tags": null
          },
          "name": "stderr",
          "output_type": "stream",
          "text": [
            "2021-09-22 05:05:45,612 - INFO - downloader - downloader-001 is waiting for new download tasks\n"
          ]
        },
        {
          "metadata": {
            "tags": null
          },
          "name": "stdout",
          "output_type": "stream",
          "text": [
            "153/153 [==============================] - 4s 29ms/step - loss: 5.0082e-04 - accuracy: 0.9998\n",
            "Epoch 106/200\n",
            "123/153 [=======================>......] - ETA: 0s - loss: 2.9147e-04 - accuracy: 1.0000"
          ]
        },
        {
          "metadata": {
            "tags": null
          },
          "name": "stderr",
          "output_type": "stream",
          "text": [
            "2021-09-22 05:05:50,614 - INFO - downloader - downloader-001 is waiting for new download tasks\n"
          ]
        },
        {
          "metadata": {
            "tags": null
          },
          "name": "stdout",
          "output_type": "stream",
          "text": [
            "153/153 [==============================] - 4s 29ms/step - loss: 0.0017 - accuracy: 0.9998\n",
            "Epoch 107/200\n",
            "141/153 [==========================>...] - ETA: 0s - loss: 2.5707e-04 - accuracy: 0.9997"
          ]
        },
        {
          "metadata": {
            "tags": null
          },
          "name": "stderr",
          "output_type": "stream",
          "text": [
            "2021-09-22 05:05:55,616 - INFO - downloader - downloader-001 is waiting for new download tasks\n"
          ]
        },
        {
          "metadata": {
            "tags": null
          },
          "name": "stdout",
          "output_type": "stream",
          "text": [
            "153/153 [==============================] - 4s 29ms/step - loss: 3.4731e-04 - accuracy: 0.9998\n",
            "Epoch 108/200\n",
            "153/153 [==============================] - 4s 29ms/step - loss: 7.8443e-04 - accuracy: 0.9995\n",
            "Epoch 109/200\n",
            "  5/153 [..............................] - ETA: 4s - loss: 1.5744e-06 - accuracy: 1.0000"
          ]
        },
        {
          "metadata": {
            "tags": null
          },
          "name": "stderr",
          "output_type": "stream",
          "text": [
            "2021-09-22 05:06:00,628 - INFO - downloader - downloader-001 is waiting for new download tasks\n"
          ]
        },
        {
          "metadata": {
            "tags": null
          },
          "name": "stdout",
          "output_type": "stream",
          "text": [
            "153/153 [==============================] - 4s 29ms/step - loss: 8.0185e-04 - accuracy: 0.9998\n",
            "Epoch 110/200\n",
            " 23/153 [===>..........................] - ETA: 3s - loss: 2.2935e-05 - accuracy: 1.0000"
          ]
        },
        {
          "metadata": {
            "tags": null
          },
          "name": "stderr",
          "output_type": "stream",
          "text": [
            "2021-09-22 05:06:05,630 - INFO - downloader - downloader-001 is waiting for new download tasks\n"
          ]
        },
        {
          "metadata": {
            "tags": null
          },
          "name": "stdout",
          "output_type": "stream",
          "text": [
            "153/153 [==============================] - 4s 29ms/step - loss: 5.9681e-05 - accuracy: 1.0000\n",
            "Epoch 111/200\n",
            " 41/153 [=======>......................] - ETA: 3s - loss: 6.7845e-05 - accuracy: 1.0000"
          ]
        },
        {
          "metadata": {
            "tags": null
          },
          "name": "stderr",
          "output_type": "stream",
          "text": [
            "2021-09-22 05:06:10,634 - INFO - downloader - downloader-001 is waiting for new download tasks\n"
          ]
        },
        {
          "metadata": {
            "tags": null
          },
          "name": "stdout",
          "output_type": "stream",
          "text": [
            "153/153 [==============================] - 4s 29ms/step - loss: 1.4527e-04 - accuracy: 1.0000\n",
            "Epoch 112/200\n",
            " 59/153 [==========>...................] - ETA: 2s - loss: 4.5972e-05 - accuracy: 1.0000"
          ]
        },
        {
          "metadata": {
            "tags": null
          },
          "name": "stderr",
          "output_type": "stream",
          "text": [
            "2021-09-22 05:06:15,635 - INFO - downloader - downloader-001 is waiting for new download tasks\n"
          ]
        },
        {
          "metadata": {
            "tags": null
          },
          "name": "stdout",
          "output_type": "stream",
          "text": [
            "153/153 [==============================] - 4s 29ms/step - loss: 2.3293e-05 - accuracy: 1.0000\n",
            "Epoch 113/200\n",
            " 75/153 [=============>................] - ETA: 2s - loss: 2.1473e-04 - accuracy: 1.0000"
          ]
        },
        {
          "metadata": {
            "tags": null
          },
          "name": "stderr",
          "output_type": "stream",
          "text": [
            "2021-09-22 05:06:20,637 - INFO - downloader - downloader-001 is waiting for new download tasks\n"
          ]
        },
        {
          "metadata": {
            "tags": null
          },
          "name": "stdout",
          "output_type": "stream",
          "text": [
            "153/153 [==============================] - 5s 30ms/step - loss: 2.1420e-04 - accuracy: 1.0000\n",
            "Epoch 114/200\n",
            " 91/153 [================>.............] - ETA: 1s - loss: 1.3482e-04 - accuracy: 1.0000"
          ]
        },
        {
          "metadata": {
            "tags": null
          },
          "name": "stderr",
          "output_type": "stream",
          "text": [
            "2021-09-22 05:06:25,639 - INFO - downloader - downloader-001 is waiting for new download tasks\n"
          ]
        },
        {
          "metadata": {
            "tags": null
          },
          "name": "stdout",
          "output_type": "stream",
          "text": [
            "153/153 [==============================] - 5s 30ms/step - loss: 1.0983e-04 - accuracy: 1.0000\n",
            "Epoch 115/200\n",
            "105/153 [===================>..........] - ETA: 1s - loss: 1.6541e-04 - accuracy: 1.0000"
          ]
        },
        {
          "metadata": {
            "tags": null
          },
          "name": "stderr",
          "output_type": "stream",
          "text": [
            "2021-09-22 05:06:30,641 - INFO - downloader - downloader-001 is waiting for new download tasks\n"
          ]
        },
        {
          "metadata": {
            "tags": null
          },
          "name": "stdout",
          "output_type": "stream",
          "text": [
            "153/153 [==============================] - 5s 30ms/step - loss: 1.2929e-04 - accuracy: 1.0000\n",
            "Epoch 116/200\n",
            "121/153 [======================>.......] - ETA: 0s - loss: 2.8755e-04 - accuracy: 1.0000"
          ]
        },
        {
          "metadata": {
            "tags": null
          },
          "name": "stderr",
          "output_type": "stream",
          "text": [
            "2021-09-22 05:06:35,643 - INFO - downloader - downloader-001 is waiting for new download tasks\n"
          ]
        },
        {
          "output_type": "stream",
          "name": "stdout",
          "text": [
            "153/153 [==============================] - 5s 30ms/step - loss: 3.2529e-04 - accuracy: 1.0000\n",
            "Epoch 117/200\n",
            "133/153 [=========================>....] - ETA: 0s - loss: 1.0098e-04 - accuracy: 1.0000"
          ]
        },
        {
          "output_type": "stream",
          "name": "stderr",
          "text": [
            "2021-09-22 05:06:40,645 - INFO - downloader - downloader-001 is waiting for new download tasks\n"
          ]
        },
        {
          "output_type": "stream",
          "name": "stdout",
          "text": [
            "153/153 [==============================] - 5s 30ms/step - loss: 9.3162e-05 - accuracy: 1.0000\n",
            "Epoch 118/200\n",
            "149/153 [============================>.] - ETA: 0s - loss: 8.1605e-05 - accuracy: 1.0000"
          ]
        },
        {
          "output_type": "stream",
          "name": "stderr",
          "text": [
            "2021-09-22 05:06:45,651 - INFO - downloader - downloader-001 is waiting for new download tasks\n"
          ]
        },
        {
          "output_type": "stream",
          "name": "stdout",
          "text": [
            "153/153 [==============================] - 5s 30ms/step - loss: 8.0253e-05 - accuracy: 1.0000\n",
            "Epoch 119/200\n",
            "153/153 [==============================] - 5s 30ms/step - loss: 4.3957e-04 - accuracy: 0.9998\n",
            "Epoch 120/200\n",
            "  7/153 [>.............................] - ETA: 4s - loss: 1.1681e-05 - accuracy: 1.0000"
          ]
        },
        {
          "output_type": "stream",
          "name": "stderr",
          "text": [
            "2021-09-22 05:06:50,655 - INFO - downloader - downloader-001 is waiting for new download tasks\n"
          ]
        },
        {
          "output_type": "stream",
          "name": "stdout",
          "text": [
            "153/153 [==============================] - 5s 30ms/step - loss: 2.2601e-04 - accuracy: 1.0000\n",
            "Epoch 121/200\n",
            " 21/153 [===>..........................] - ETA: 4s - loss: 3.1943e-04 - accuracy: 1.0000"
          ]
        },
        {
          "output_type": "stream",
          "name": "stderr",
          "text": [
            "2021-09-22 05:06:55,667 - INFO - downloader - downloader-001 is waiting for new download tasks\n"
          ]
        },
        {
          "output_type": "stream",
          "name": "stdout",
          "text": [
            "153/153 [==============================] - 5s 30ms/step - loss: 2.1807e-04 - accuracy: 1.0000\n",
            "Epoch 122/200\n",
            " 33/153 [=====>........................] - ETA: 3s - loss: 4.2366e-05 - accuracy: 1.0000"
          ]
        },
        {
          "output_type": "stream",
          "name": "stderr",
          "text": [
            "2021-09-22 05:07:00,672 - INFO - downloader - downloader-001 is waiting for new download tasks\n"
          ]
        },
        {
          "output_type": "stream",
          "name": "stdout",
          "text": [
            "147/153 [===========================>..] - ETA: 0s - loss: 0.0026 - accuracy: 0.9998"
          ]
        }
      ]
    },
    {
      "cell_type": "code",
      "metadata": {
        "id": "tiCI7YI6HCLb"
      },
      "source": [
        ""
      ],
      "execution_count": null,
      "outputs": []
    }
  ]
}